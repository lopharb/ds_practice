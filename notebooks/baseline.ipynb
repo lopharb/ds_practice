{
 "cells": [
  {
   "cell_type": "markdown",
   "metadata": {},
   "source": [
    "## Raw ideas"
   ]
  },
  {
   "cell_type": "markdown",
   "metadata": {},
   "source": [
    "so here's a few quick ideas for a validation schema:\n",
    "\n",
    "- data shouldn't be shuffled before training, cause it's essential to have the time series values in consecutive order\n",
    "- currently I came up with three ideas for a schema:\n",
    "    1. `1,2train+3valid` -> `1,2,3train+4valid` -> `1,2,3,4train+5valid` etc.\n",
    "\n",
    "        **Advatages**:\n",
    "        - the train set grows, probably helping to test model's robustness\n",
    "        - we always validate on different parts of the training set\n",
    "\n",
    "        **Disadvantages**:\n",
    "        - computationally heavy. at some point our train will contain almost the entire dataset\n",
    "    2. `1,2train+3valid` -> `2,3train+4valid` -> `3,4train+5valid`\n",
    "\n",
    "        **Advantages**:\n",
    "        - fixed train size, no computational power issues\n",
    "        - we can somewhat efficiently use our dataset since we use each fold several times during different trainig sessions\n",
    "        \n",
    "        **Disadvantages**:\n",
    "        - the fact that different sets overlap might be a problem (shouldn't be, but who knows)\n",
    "    3.  `1,2train+3valid` -> `4,5train+6valid` -> `7,8train+9valid`\n",
    "\n",
    "        **Advantages**:\n",
    "        - the easiest one to implement, goes through each fold once only\n",
    "        - it's guaranteed that there's no overlapping or data leaks\n",
    "        \n",
    "        **Disadvantages**:\n",
    "        - data hugry in some sense, each fold is used only ones and each trainig session takes $f_{train} + 1$ folds, where $f_{train}$ is the amount of folds for the trainig set. this might be a problem assuming we have only 33 folds at maximum"
   ]
  },
  {
   "cell_type": "markdown",
   "metadata": {},
   "source": [
    "model ideas:\n",
    "\n",
    "- **decision tree-based algorithms (boosting, random forest)**:\n",
    "\n",
    "    seems to be a good choice for the task since we have a lot of categorical features and the target is a discrete variable (which is typical for decision tree regression). at the same time, trees can be overfit easily, which can cause a huge loss in robustness and very inaccurate predictions on unseen data. ensembles will help to resolve this, but the problem of overfitting won't be gone completely. also, decision trees don't work well once something completely unseen shows up in input data, which might be a problem during future usage\n",
    "- **auto-regressive models**:\n",
    "\n",
    "    a time-series specific solution, that's supposed to do a good job at predicting future sales based on historical data. the main problems are the following: \n",
    "        1. I don't have any experience working with them (but we'll still try I guess)\n",
    "        2. the data is still quite noisy, so using AR models will require some additional preprocessing \n",
    "- **RNNs**:\n",
    "\n",
    "    one of the hardest models to implement, but at the same time a really powerfull (in theory) solution, that by definition fits the task idea quite well. RNNs can be really good when it comes to analyzing consecitive data (like text processing or time series) \n"
   ]
  },
  {
   "cell_type": "markdown",
   "metadata": {},
   "source": [
    "useful additional features:\n",
    "\n",
    "- day of the week\n",
    "- month\n",
    "- year\n",
    "- lagged values (look them up in `EDA`)\n",
    "- ...\n"
   ]
  },
  {
   "cell_type": "code",
   "execution_count": 1,
   "metadata": {},
   "outputs": [
    {
     "name": "stderr",
     "output_type": "stream",
     "text": [
      "/tmp/ipykernel_21229/4242659641.py:1: DeprecationWarning: \n",
      "Pyarrow will become a required dependency of pandas in the next major release of pandas (pandas 3.0),\n",
      "(to allow more performant data types, such as the Arrow string type, and better interoperability with other libraries)\n",
      "but was not found to be installed on your system.\n",
      "If this would cause problems for you,\n",
      "please provide us feedback at https://github.com/pandas-dev/pandas/issues/54466\n",
      "        \n",
      "  import pandas as pd\n"
     ]
    }
   ],
   "source": [
    "import pandas as pd\n",
    "from warnings import filterwarnings\n",
    "filterwarnings('ignore', category=FutureWarning)\n",
    "from catboost import CatBoostRegressor\n",
    "from sklearn.ensemble import RandomForestRegressor"
   ]
  },
  {
   "cell_type": "markdown",
   "metadata": {},
   "source": [
    "## Loading the data\n",
    "\n",
    "the point is to load the data in a format that's actually going to be fed to the model"
   ]
  },
  {
   "cell_type": "code",
   "execution_count": 2,
   "metadata": {},
   "outputs": [],
   "source": [
    "data = pd.read_csv('../data/processed_files/processed_data.csv')\n",
    "data['date'] = pd.to_datetime(data['date'])"
   ]
  },
  {
   "cell_type": "code",
   "execution_count": 3,
   "metadata": {},
   "outputs": [
    {
     "data": {
      "text/plain": [
       "Index(['date', 'date_block_num', 'shop_id', 'item_id', 'item_price',\n",
       "       'item_cnt_day', 'item_name', 'item_category_id', 'shop_name',\n",
       "       'item_category_name'],\n",
       "      dtype='object')"
      ]
     },
     "execution_count": 3,
     "metadata": {},
     "output_type": "execute_result"
    }
   ],
   "source": [
    "data.columns"
   ]
  },
  {
   "cell_type": "code",
   "execution_count": 4,
   "metadata": {},
   "outputs": [],
   "source": [
    "#TODO should be moved to a dedicated file once i get everything working\n",
    "\n",
    "class FoldLoader:\n",
    "    \"\"\"\n",
    "    Provides tools for loading time series data, processing it and dividing into folds.\n",
    "    Is iterable\n",
    "\n",
    "    Example:\n",
    "\n",
    "    >>> loader = FoldLoader(your_data, 3, folding_mode='over')\n",
    "    >>> for train, val in loader:\n",
    "    >>>     # whatever we wanna do with the folds\n",
    "\n",
    "    This creates a FoldLoader with overlap folding mode.\n",
    "    After that, you can iterate through it using a for loop, where on each iteration\n",
    "    you recieve training and validation sets insize a 2-element tuple\n",
    "    \"\"\"\n",
    "    def __init__(self, data: pd.DataFrame,  n_train_folds: int, n_valid_folds: int = 1, folding_mode: str = 'sequence') -> None:\n",
    "        \"\"\"\n",
    "        Constructs a FoldLoader object, sets its internal properties \n",
    "        (data source, training and validation sets size, folding mode)\n",
    "\n",
    "        Keyword arguments:\n",
    "\n",
    "        data -- a pandas dataframe containing the training data\n",
    "\n",
    "        target_col -- the name of a column in `data` contains the target values\n",
    "\n",
    "        n_train_folds -- the amount of months used to train the model.\n",
    "        must be less or equal to the amount of months in `data` minus n_valid_folds. \n",
    "        if `folding_mode` is 'stack', only affects the train size on the first iteration\n",
    "\n",
    "        n_valid_folds -- the amount of months used to validate the model.\n",
    "        must be less or equal to the amount of months in `data` minus n_train_folds\n",
    "        Default: 1\n",
    "\n",
    "        folding_mode -- one of \"sequence\", \"overlap\", \"stack\"\n",
    "        a string denoting the data splitting mode:\n",
    "            - `sequence` for `1,2train+3valid` -> `4,5train+6valid` -> `7,8train+9valid`\n",
    "            - `overlap` for `1,2train+3valid` -> `2,3train+4valid` -> `3,4train+5valid`\n",
    "            - `stack` for `1,2train+3valid` -> `1,2,3train+4valid` -> `1,2,3,4train+5valid`\n",
    "        Default: `sequence`\n",
    "        \"\"\"\n",
    "        self.min_fold = data['date_block_num'].unique().min()\n",
    "        self.max_fold = data['date_block_num'].unique().max()\n",
    "        self.current_fold = self.min_fold\n",
    "        self.train_size = n_train_folds\n",
    "        self.val_size = n_valid_folds\n",
    "        self.mode = folding_mode\n",
    "\n",
    "        if (self.max_fold - self.min_fold + 1) < self.train_size + self.val_size:\n",
    "            raise ValueError(\n",
    "                f'too many folds in train and valid for the given data')\n",
    "        tmp = pd.DataFrame()\n",
    "        tmp['income'] = data['item_price'] * data['item_cnt_day']\n",
    "        self.data = data[['date_block_num', 'shop_id',\n",
    "                    'item_id', 'item_cnt_day']].join(tmp, how='inner')\n",
    "        self.data = self.data.groupby(\n",
    "            ['date_block_num', 'shop_id', 'item_id'], as_index=False).sum()\n",
    "\n",
    "    @staticmethod\n",
    "    def preprocess(data: pd.DataFrame, cat_features) -> pd.DataFrame:\n",
    "        \"\"\"\n",
    "        Preprocesses the input data. this includes the following:\n",
    "            - target encoding columns specified in `cat_features`\n",
    "            - forming additional features based on EDA results\n",
    "\n",
    "        Keyword arguments:\n",
    "\n",
    "        data -- data to be processed\n",
    "    \n",
    "        cat_features -- list of column names present in `self.data` that will be\n",
    "        target encoded\n",
    "\n",
    "        Returns:\n",
    "\n",
    "        pandas.DataFrame -- a new dataframe with the processed data \n",
    "        \"\"\"\n",
    "        raise NotImplementedError\n",
    "\n",
    "    def _get_item_internal(self, start_idx) -> tuple[pd.DataFrame, pd.DataFrame]:\n",
    "        \"\"\"\n",
    "        iterates through the dataset to form the training and validation sets\n",
    "        for current iteration\n",
    "\n",
    "        Keyword arguments:\n",
    "\n",
    "        start_idx -- index of the fold (month) to start from\n",
    "\n",
    "        Returns:\n",
    "\n",
    "        tuple(train, val) -- training and vaidation sets in form of a pandas DataFrame\n",
    "        \"\"\"\n",
    "        train = pd.DataFrame(columns=self.data.columns)\n",
    "        val = pd.DataFrame(columns=self.data.columns)\n",
    "\n",
    "        for idx in range(start_idx, start_idx + self.train_size):\n",
    "            train = pd.concat(\n",
    "                [train, self.data[self.data['date_block_num'] == idx]])\n",
    "        start_idx += self.train_size\n",
    "        for idx in range(start_idx, start_idx + self.val_size):\n",
    "            val = pd.concat(\n",
    "                [val, self.data[self.data['date_block_num'] == idx]])\n",
    "        return (train, val)\n",
    "\n",
    "    def __getitem__(self, idx) -> tuple[pd.DataFrame, pd.DataFrame]:\n",
    "        \"\"\"\n",
    "        calls `_get_item_internal` to get training and validation sets.\n",
    "        adjusts internal counters corresponding to the selected folding mode.\n",
    "        Raises IndexError once the iteration is over\n",
    "\n",
    "        Keyword arguments:\n",
    "\n",
    "        idx -- not used in there since the data has to be consecutive.\n",
    "        however, it's mandatory to let __getitem__ take an index as input, \n",
    "        so there it is\n",
    "\n",
    "        Returns:\n",
    "\n",
    "        tuple(train, val) -- training and vaidation sets in form of a pandas DataFrame\n",
    "        \"\"\"\n",
    "        if (self.current_fold+self.train_size+self.val_size - 1) > self.max_fold:\n",
    "            raise IndexError\n",
    "        start_idx = self.current_fold\n",
    "        if self.mode.startswith('seq'):\n",
    "            result = self._get_item_internal(start_idx)\n",
    "            self.current_fold += self.train_size+self.val_size\n",
    "            return result\n",
    "        elif self.mode.startswith('over'):\n",
    "            result = self._get_item_internal(start_idx)\n",
    "            self.current_fold += 1\n",
    "            return result\n",
    "        elif self.mode.startswith('stack'):\n",
    "            result = self._get_item_internal(start_idx)\n",
    "            self.train_size += 1\n",
    "            return result\n",
    "\n",
    "    def reset_folds(self) -> None:\n",
    "        \"\"\"\n",
    "        sets the current fold counter to point to the first fold \n",
    "        of the dataset. this effectively means that the iteration will be started over\n",
    "        \"\"\"\n",
    "        self.current_fold = self.min_fold"
   ]
  },
  {
   "cell_type": "code",
   "execution_count": 5,
   "metadata": {},
   "outputs": [
    {
     "name": "stdout",
     "output_type": "stream",
     "text": [
      "1058444 39937\n",
      "1035652 42090\n",
      "1018239 45165\n",
      "999872 58263\n",
      "1003865 46267\n",
      "997172 41060\n",
      "982462 40074\n",
      "964925 32493\n",
      "939824 31822\n",
      "920559 31630\n",
      "901629 33316\n",
      "883909 33240\n",
      "851608 29343\n",
      "828094 31050\n"
     ]
    }
   ],
   "source": [
    "loader = FoldLoader(data, 20, folding_mode='overlap')\n",
    "for train, val in loader:\n",
    "    print(train.shape[0], val.shape[0])"
   ]
  }
 ],
 "metadata": {
  "kernelspec": {
   "display_name": "venv",
   "language": "python",
   "name": "python3"
  },
  "language_info": {
   "codemirror_mode": {
    "name": "ipython",
    "version": 3
   },
   "file_extension": ".py",
   "mimetype": "text/x-python",
   "name": "python",
   "nbconvert_exporter": "python",
   "pygments_lexer": "ipython3",
   "version": "3.11.7"
  }
 },
 "nbformat": 4,
 "nbformat_minor": 2
}

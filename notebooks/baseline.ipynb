{
 "cells": [
  {
   "cell_type": "markdown",
   "metadata": {},
   "source": [
    "## Raw ideas\n"
   ]
  },
  {
   "cell_type": "markdown",
   "metadata": {},
   "source": [
    "so here's a few quick ideas for a validation schema:\n",
    "\n",
    "- data shouldn't be shuffled before training, cause it's essential to have the time series values in consecutive order\n",
    "- currently I came up with three ideas for a schema:\n",
    "\n",
    "  1. `1,2train+3valid` -> `1,2,3train+4valid` -> `1,2,3,4train+5valid` etc.\n",
    "\n",
    "     **Advatages**:\n",
    "\n",
    "     - the train set grows, probably helping to test model's robustness\n",
    "     - we always validate on different parts of the training set\n",
    "\n",
    "     **Disadvantages**:\n",
    "\n",
    "     - computationally heavy. at some point our train will contain almost the entire dataset\n",
    "\n",
    "  2. `1,2train+3valid` -> `2,3train+4valid` -> `3,4train+5valid`\n",
    "\n",
    "     **Advantages**:\n",
    "\n",
    "     - fixed train size, no computational power issues\n",
    "     - we can somewhat efficiently use our dataset since we use each fold several times during different trainig sessions\n",
    "\n",
    "     **Disadvantages**:\n",
    "\n",
    "     - the fact that different sets overlap might be a problem (shouldn't be, but who knows)\n",
    "\n",
    "  3. `1,2train+3valid` -> `4,5train+6valid` -> `7,8train+9valid`\n",
    "\n",
    "     **Advantages**:\n",
    "\n",
    "     - the easiest one to implement, goes through each fold once only\n",
    "     - it's guaranteed that there's no overlapping or data leaks\n",
    "\n",
    "     **Disadvantages**:\n",
    "\n",
    "     - data hugry in some sense, each fold is used only ones and each trainig session takes $f_{train} + 1$ folds, where $f_{train}$ is the amount of folds for the trainig set. this might be a problem assuming we have only 33 folds at maximum\n"
   ]
  },
  {
   "cell_type": "markdown",
   "metadata": {},
   "source": [
    "model ideas:\n",
    "\n",
    "- **decision tree-based algorithms (boosting, random forest)**:\n",
    "\n",
    "  seems to be a good choice for the task since we have a lot of categorical features and the target is a discrete variable (which is typical for decision tree regression). at the same time, trees can be overfit easily, which can cause a huge loss in robustness and very inaccurate predictions on unseen data. ensembles will help to resolve this, but the problem of overfitting won't be gone completely. also, decision trees don't work well once something completely unseen shows up in input data, which might be a problem during future usage\n",
    "\n",
    "- **auto-regressive models**:\n",
    "\n",
    "  a time-series specific solution, that's supposed to do a good job at predicting future sales based on historical data. the main problems are the following: 1. I don't have any experience working with them (but we'll still try I guess) 2. the data is still quite noisy, so using AR models will require some additional preprocessing\n",
    "\n",
    "- **RNNs**:\n",
    "\n",
    "  one of the hardest models to implement, but at the same time a really powerfull (in theory) solution, that by definition fits the task idea quite well. RNNs can be really good when it comes to analyzing consecitive data (like text processing or time series)\n"
   ]
  },
  {
   "cell_type": "markdown",
   "metadata": {},
   "source": [
    "useful additional features:\n",
    "\n",
    "- day of the week\n",
    "- month\n",
    "- year\n",
    "- lagged values (look them up in `EDA`)\n",
    "- ...\n"
   ]
  },
  {
   "cell_type": "markdown",
   "metadata": {},
   "source": [
    "## Loading and preparing the data\n",
    "\n",
    "the point is to load the data in a format that's actually going to be fed to the model\n"
   ]
  },
  {
   "cell_type": "code",
   "execution_count": 1,
   "metadata": {},
   "outputs": [],
   "source": [
    "from sys import path\n",
    "path.append('../')\n"
   ]
  },
  {
   "cell_type": "code",
   "execution_count": 2,
   "metadata": {},
   "outputs": [],
   "source": [
    "from src.utils import FoldLoader\n",
    "from src.transform import ETL\n",
    "from sklearn.ensemble import RandomForestRegressor\n",
    "from tqdm.notebook import tqdm\n",
    "from sklearn.metrics import mean_squared_error\n",
    "from sklearn.metrics import r2_score\n",
    "from matplotlib import pyplot as plt\n",
    "import os\n",
    "import seaborn as sns\n",
    "import catboost as cb\n",
    "import numpy as np\n",
    "import pandas as pd\n",
    "import re\n",
    "from math import sin, cos, pi\n",
    "from warnings import filterwarnings\n",
    "filterwarnings('ignore', category=FutureWarning)\n",
    "\n"
   ]
  },
  {
   "cell_type": "code",
   "execution_count": 3,
   "metadata": {},
   "outputs": [],
   "source": [
    "DATA_DIR = '../data/competitive-data-science-predict-future-sales/'"
   ]
  },
  {
   "cell_type": "code",
   "execution_count": 4,
   "metadata": {},
   "outputs": [],
   "source": [
    "def etl_process():\n",
    "    pipeline = ETL(DATA_DIR, ['sales_train.csv',\n",
    "                   'items', 'shops', 'item_categories'])\n",
    "    pipeline.extract()\n",
    "    pipeline.tarnsform()\n",
    "    pipeline.load(os.path.join(DATA_DIR, 'processed_files/'))"
   ]
  },
  {
   "cell_type": "code",
   "execution_count": 5,
   "metadata": {},
   "outputs": [
    {
     "name": "stdout",
     "output_type": "stream",
     "text": [
      "0.00% of data had empty values and was removed in sales\n",
      "0.00% of data had empty values and was removed in items\n",
      "0.00% of data had empty values and was removed in shops\n",
      "0.00% of data had empty values and was removed in item_categories\n",
      "resolving noisy values in shops...\n",
      "resolving noisy values in items...\n",
      "saving...\n"
     ]
    }
   ],
   "source": [
    "# uncomment if data reloading is needed (made this specifically after switching\n",
    "# the working device since the data dir is not on github)\n",
    "etl_process()"
   ]
  },
  {
   "cell_type": "code",
   "execution_count": 6,
   "metadata": {},
   "outputs": [],
   "source": [
    "data = pd.read_csv(os.path.join(\n",
    "    DATA_DIR, 'processed_files/processed_data.csv'))\n",
    "categories = pd.read_csv(os.path.join(DATA_DIR, 'item_categories.csv'))\n",
    "items = pd.read_csv(os.path.join(DATA_DIR, 'items.csv'))\n",
    "\n",
    "item_cats  =items.merge(categories, how='inner', on='item_category_id')\n",
    "test = pd.read_csv(os.path.join(DATA_DIR, 'test.csv'))\n",
    "test['date_block_num'] = 34"
   ]
  },
  {
   "cell_type": "code",
   "execution_count": 7,
   "metadata": {},
   "outputs": [],
   "source": [
    "columns_to_drop = ['date', 'item_name', 'shop_name']\n",
    "data = data.drop(columns=columns_to_drop)"
   ]
  },
  {
   "cell_type": "code",
   "execution_count": 8,
   "metadata": {},
   "outputs": [],
   "source": [
    "agg_cols = ['date_block_num', 'shop_id', 'item_id', 'item_category_name']"
   ]
  },
  {
   "cell_type": "code",
   "execution_count": 9,
   "metadata": {},
   "outputs": [],
   "source": [
    "grouped = data.groupby(agg_cols, as_index=False).sum()\n",
    "grouped_test = test.groupby(agg_cols[:-1], as_index=False).sum()"
   ]
  },
  {
   "cell_type": "markdown",
   "metadata": {},
   "source": [
    "## Feature extraction\n"
   ]
  },
  {
   "cell_type": "code",
   "execution_count": 10,
   "metadata": {},
   "outputs": [],
   "source": [
    "def extract_features(data: pd.DataFrame, from_cols: list[str], to_cols: list[str], using: list[callable]):\n",
    "    # weird idea but should work\n",
    "    # doesn't work for more complex features but we won't use those i suppose\n",
    "    _data = data.copy()\n",
    "    if not (len(from_cols) == len(to_cols) == len(using)):\n",
    "        raise ValueError('list sizes have to match')\n",
    "    for f, t, u in zip(from_cols, to_cols, using):\n",
    "        _data[t] = _data[f].apply(u)\n",
    "    return _data"
   ]
  },
  {
   "cell_type": "code",
   "execution_count": 11,
   "metadata": {},
   "outputs": [],
   "source": [
    "new_features = [\n",
    "    'month_sin',\n",
    "    'month_cos',\n",
    "    'item_cat',\n",
    "    'general_cat'\n",
    "]\n",
    "sources = [\n",
    "    'date_block_num',\n",
    "    'date_block_num',\n",
    "    'item_id',\n",
    "    'item_id'\n",
    "]\n",
    "\n",
    "lookup = {}\n",
    "\n",
    "\n",
    "def month_wrapper(func: callable):\n",
    "    def ex_month(x):\n",
    "        month = x % 12 + 1\n",
    "        return func(2*pi*month/12)\n",
    "    return ex_month\n",
    "\n",
    "\n",
    "def fetch_cat(id):\n",
    "    if id not in lookup:\n",
    "        lookup[id] = item_cats[item_cats['item_id'] == id]['item_category_name'].unique()[0]\n",
    "    return lookup[id]\n",
    "\n",
    "\n",
    "def gen_cat(id):\n",
    "    cat = fetch_cat(id)\n",
    "    return 'Игры' if cat.startswith('Игры') \\\n",
    "        else re.split(r'\\s*-\\s*', cat)[0]\n",
    "\n",
    "\n",
    "extractors = [\n",
    "    month_wrapper(sin),\n",
    "    month_wrapper(cos),\n",
    "    fetch_cat,\n",
    "    gen_cat\n",
    "]\n",
    "grouped = extract_features(grouped, sources, new_features, extractors)"
   ]
  },
  {
   "cell_type": "code",
   "execution_count": 12,
   "metadata": {},
   "outputs": [
    {
     "data": {
      "text/html": [
       "<div>\n",
       "<style scoped>\n",
       "    .dataframe tbody tr th:only-of-type {\n",
       "        vertical-align: middle;\n",
       "    }\n",
       "\n",
       "    .dataframe tbody tr th {\n",
       "        vertical-align: top;\n",
       "    }\n",
       "\n",
       "    .dataframe thead th {\n",
       "        text-align: right;\n",
       "    }\n",
       "</style>\n",
       "<table border=\"1\" class=\"dataframe\">\n",
       "  <thead>\n",
       "    <tr style=\"text-align: right;\">\n",
       "      <th></th>\n",
       "      <th>date_block_num</th>\n",
       "      <th>shop_id</th>\n",
       "      <th>item_id</th>\n",
       "      <th>item_category_name</th>\n",
       "      <th>item_price</th>\n",
       "      <th>item_cnt_day</th>\n",
       "      <th>item_category_id</th>\n",
       "      <th>month_sin</th>\n",
       "      <th>month_cos</th>\n",
       "      <th>item_cat</th>\n",
       "      <th>general_cat</th>\n",
       "    </tr>\n",
       "  </thead>\n",
       "  <tbody>\n",
       "    <tr>\n",
       "      <th>0</th>\n",
       "      <td>0</td>\n",
       "      <td>2</td>\n",
       "      <td>27</td>\n",
       "      <td>Игры - PS3</td>\n",
       "      <td>2499.0</td>\n",
       "      <td>1</td>\n",
       "      <td>19</td>\n",
       "      <td>0.5</td>\n",
       "      <td>0.866025</td>\n",
       "      <td>Игры - PS3</td>\n",
       "      <td>Игры</td>\n",
       "    </tr>\n",
       "    <tr>\n",
       "      <th>1</th>\n",
       "      <td>0</td>\n",
       "      <td>2</td>\n",
       "      <td>33</td>\n",
       "      <td>Кино - Blu-Ray</td>\n",
       "      <td>499.0</td>\n",
       "      <td>1</td>\n",
       "      <td>37</td>\n",
       "      <td>0.5</td>\n",
       "      <td>0.866025</td>\n",
       "      <td>Кино - Blu-Ray</td>\n",
       "      <td>Кино</td>\n",
       "    </tr>\n",
       "    <tr>\n",
       "      <th>2</th>\n",
       "      <td>0</td>\n",
       "      <td>2</td>\n",
       "      <td>317</td>\n",
       "      <td>Книги - Аудиокниги 1С</td>\n",
       "      <td>299.0</td>\n",
       "      <td>1</td>\n",
       "      <td>45</td>\n",
       "      <td>0.5</td>\n",
       "      <td>0.866025</td>\n",
       "      <td>Книги - Аудиокниги 1С</td>\n",
       "      <td>Книги</td>\n",
       "    </tr>\n",
       "    <tr>\n",
       "      <th>3</th>\n",
       "      <td>0</td>\n",
       "      <td>2</td>\n",
       "      <td>438</td>\n",
       "      <td>Книги - Аудиокниги 1С</td>\n",
       "      <td>299.0</td>\n",
       "      <td>1</td>\n",
       "      <td>45</td>\n",
       "      <td>0.5</td>\n",
       "      <td>0.866025</td>\n",
       "      <td>Книги - Аудиокниги 1С</td>\n",
       "      <td>Книги</td>\n",
       "    </tr>\n",
       "    <tr>\n",
       "      <th>4</th>\n",
       "      <td>0</td>\n",
       "      <td>2</td>\n",
       "      <td>471</td>\n",
       "      <td>Книги - Методические материалы 1С</td>\n",
       "      <td>798.0</td>\n",
       "      <td>2</td>\n",
       "      <td>98</td>\n",
       "      <td>0.5</td>\n",
       "      <td>0.866025</td>\n",
       "      <td>Книги - Методические материалы 1С</td>\n",
       "      <td>Книги</td>\n",
       "    </tr>\n",
       "    <tr>\n",
       "      <th>5</th>\n",
       "      <td>0</td>\n",
       "      <td>2</td>\n",
       "      <td>481</td>\n",
       "      <td>Книги - Методические материалы 1С</td>\n",
       "      <td>330.0</td>\n",
       "      <td>1</td>\n",
       "      <td>49</td>\n",
       "      <td>0.5</td>\n",
       "      <td>0.866025</td>\n",
       "      <td>Книги - Методические материалы 1С</td>\n",
       "      <td>Книги</td>\n",
       "    </tr>\n",
       "    <tr>\n",
       "      <th>6</th>\n",
       "      <td>0</td>\n",
       "      <td>2</td>\n",
       "      <td>482</td>\n",
       "      <td>Программы - 1С:Предприятие 8</td>\n",
       "      <td>3300.0</td>\n",
       "      <td>1</td>\n",
       "      <td>73</td>\n",
       "      <td>0.5</td>\n",
       "      <td>0.866025</td>\n",
       "      <td>Программы - 1С:Предприятие 8</td>\n",
       "      <td>Программы</td>\n",
       "    </tr>\n",
       "    <tr>\n",
       "      <th>7</th>\n",
       "      <td>0</td>\n",
       "      <td>2</td>\n",
       "      <td>484</td>\n",
       "      <td>Программы - 1С:Предприятие 8</td>\n",
       "      <td>600.0</td>\n",
       "      <td>2</td>\n",
       "      <td>146</td>\n",
       "      <td>0.5</td>\n",
       "      <td>0.866025</td>\n",
       "      <td>Программы - 1С:Предприятие 8</td>\n",
       "      <td>Программы</td>\n",
       "    </tr>\n",
       "    <tr>\n",
       "      <th>8</th>\n",
       "      <td>0</td>\n",
       "      <td>2</td>\n",
       "      <td>491</td>\n",
       "      <td>Программы - 1С:Предприятие 8</td>\n",
       "      <td>600.0</td>\n",
       "      <td>1</td>\n",
       "      <td>73</td>\n",
       "      <td>0.5</td>\n",
       "      <td>0.866025</td>\n",
       "      <td>Программы - 1С:Предприятие 8</td>\n",
       "      <td>Программы</td>\n",
       "    </tr>\n",
       "    <tr>\n",
       "      <th>9</th>\n",
       "      <td>0</td>\n",
       "      <td>2</td>\n",
       "      <td>534</td>\n",
       "      <td>Программы - Обучающие</td>\n",
       "      <td>798.0</td>\n",
       "      <td>2</td>\n",
       "      <td>154</td>\n",
       "      <td>0.5</td>\n",
       "      <td>0.866025</td>\n",
       "      <td>Программы - Обучающие</td>\n",
       "      <td>Программы</td>\n",
       "    </tr>\n",
       "  </tbody>\n",
       "</table>\n",
       "</div>"
      ],
      "text/plain": [
       "   date_block_num  shop_id  item_id                 item_category_name  \\\n",
       "0               0        2       27                         Игры - PS3   \n",
       "1               0        2       33                     Кино - Blu-Ray   \n",
       "2               0        2      317              Книги - Аудиокниги 1С   \n",
       "3               0        2      438              Книги - Аудиокниги 1С   \n",
       "4               0        2      471  Книги - Методические материалы 1С   \n",
       "5               0        2      481  Книги - Методические материалы 1С   \n",
       "6               0        2      482       Программы - 1С:Предприятие 8   \n",
       "7               0        2      484       Программы - 1С:Предприятие 8   \n",
       "8               0        2      491       Программы - 1С:Предприятие 8   \n",
       "9               0        2      534              Программы - Обучающие   \n",
       "\n",
       "   item_price  item_cnt_day  item_category_id  month_sin  month_cos  \\\n",
       "0      2499.0             1                19        0.5   0.866025   \n",
       "1       499.0             1                37        0.5   0.866025   \n",
       "2       299.0             1                45        0.5   0.866025   \n",
       "3       299.0             1                45        0.5   0.866025   \n",
       "4       798.0             2                98        0.5   0.866025   \n",
       "5       330.0             1                49        0.5   0.866025   \n",
       "6      3300.0             1                73        0.5   0.866025   \n",
       "7       600.0             2               146        0.5   0.866025   \n",
       "8       600.0             1                73        0.5   0.866025   \n",
       "9       798.0             2               154        0.5   0.866025   \n",
       "\n",
       "                            item_cat general_cat  \n",
       "0                         Игры - PS3        Игры  \n",
       "1                     Кино - Blu-Ray        Кино  \n",
       "2              Книги - Аудиокниги 1С       Книги  \n",
       "3              Книги - Аудиокниги 1С       Книги  \n",
       "4  Книги - Методические материалы 1С       Книги  \n",
       "5  Книги - Методические материалы 1С       Книги  \n",
       "6       Программы - 1С:Предприятие 8   Программы  \n",
       "7       Программы - 1С:Предприятие 8   Программы  \n",
       "8       Программы - 1С:Предприятие 8   Программы  \n",
       "9              Программы - Обучающие   Программы  "
      ]
     },
     "execution_count": 12,
     "metadata": {},
     "output_type": "execute_result"
    }
   ],
   "source": [
    "grouped.head(10)"
   ]
  },
  {
   "cell_type": "markdown",
   "metadata": {},
   "source": [
    "## Catboost\n"
   ]
  },
  {
   "cell_type": "code",
   "execution_count": 13,
   "metadata": {},
   "outputs": [],
   "source": [
    "in_features = ['shop_id', 'item_id', 'item_cat',\n",
    "               'month_sin', 'month_cos', 'general_cat']\n",
    "target = 'item_cnt_day'\n",
    "cat_cols = ['shop_id', 'item_id', 'item_cat', 'general_cat']"
   ]
  },
  {
   "cell_type": "code",
   "execution_count": 14,
   "metadata": {},
   "outputs": [],
   "source": [
    "def train_model(train: pd.DataFrame, cat_cols: list[str], in_features: list[str], target: str, lower: int = 0, upper: int = 33) -> list:\n",
    "    mask_1 = train['date_block_num'] < upper\n",
    "    mask_2 = train['date_block_num'] >= lower\n",
    "    train_data = cb.Pool(train[mask_1 & mask_2][in_features],\n",
    "                         train[mask_1 & mask_2][target],\n",
    "                         cat_features=cat_cols)\n",
    "    val_data = cb.Pool(train[train['date_block_num'] == upper][in_features],\n",
    "                       train[train['date_block_num'] == upper][target],\n",
    "                       cat_features=cat_cols)\n",
    "\n",
    "    model = cb.CatBoostRegressor(cat_features=cat_cols, random_seed=67)\n",
    "    model.fit(train_data, eval_set=val_data, use_best_model=True,\n",
    "              verbose=True, early_stopping_rounds=100)\n",
    "    return model"
   ]
  },
  {
   "cell_type": "code",
   "execution_count": 15,
   "metadata": {},
   "outputs": [
    {
     "data": {
      "text/html": [
       "<div>\n",
       "<style scoped>\n",
       "    .dataframe tbody tr th:only-of-type {\n",
       "        vertical-align: middle;\n",
       "    }\n",
       "\n",
       "    .dataframe tbody tr th {\n",
       "        vertical-align: top;\n",
       "    }\n",
       "\n",
       "    .dataframe thead th {\n",
       "        text-align: right;\n",
       "    }\n",
       "</style>\n",
       "<table border=\"1\" class=\"dataframe\">\n",
       "  <thead>\n",
       "    <tr style=\"text-align: right;\">\n",
       "      <th></th>\n",
       "      <th>date_block_num</th>\n",
       "      <th>shop_id</th>\n",
       "      <th>item_id</th>\n",
       "      <th>item_category_name</th>\n",
       "      <th>item_price</th>\n",
       "      <th>item_cnt_day</th>\n",
       "      <th>item_category_id</th>\n",
       "      <th>month_sin</th>\n",
       "      <th>month_cos</th>\n",
       "      <th>item_cat</th>\n",
       "      <th>general_cat</th>\n",
       "    </tr>\n",
       "  </thead>\n",
       "  <tbody>\n",
       "    <tr>\n",
       "      <th>0</th>\n",
       "      <td>0</td>\n",
       "      <td>2</td>\n",
       "      <td>27</td>\n",
       "      <td>Игры - PS3</td>\n",
       "      <td>2499.0</td>\n",
       "      <td>1</td>\n",
       "      <td>19</td>\n",
       "      <td>0.5</td>\n",
       "      <td>0.866025</td>\n",
       "      <td>Игры - PS3</td>\n",
       "      <td>Игры</td>\n",
       "    </tr>\n",
       "    <tr>\n",
       "      <th>1</th>\n",
       "      <td>0</td>\n",
       "      <td>2</td>\n",
       "      <td>33</td>\n",
       "      <td>Кино - Blu-Ray</td>\n",
       "      <td>499.0</td>\n",
       "      <td>1</td>\n",
       "      <td>37</td>\n",
       "      <td>0.5</td>\n",
       "      <td>0.866025</td>\n",
       "      <td>Кино - Blu-Ray</td>\n",
       "      <td>Кино</td>\n",
       "    </tr>\n",
       "    <tr>\n",
       "      <th>2</th>\n",
       "      <td>0</td>\n",
       "      <td>2</td>\n",
       "      <td>317</td>\n",
       "      <td>Книги - Аудиокниги 1С</td>\n",
       "      <td>299.0</td>\n",
       "      <td>1</td>\n",
       "      <td>45</td>\n",
       "      <td>0.5</td>\n",
       "      <td>0.866025</td>\n",
       "      <td>Книги - Аудиокниги 1С</td>\n",
       "      <td>Книги</td>\n",
       "    </tr>\n",
       "    <tr>\n",
       "      <th>3</th>\n",
       "      <td>0</td>\n",
       "      <td>2</td>\n",
       "      <td>438</td>\n",
       "      <td>Книги - Аудиокниги 1С</td>\n",
       "      <td>299.0</td>\n",
       "      <td>1</td>\n",
       "      <td>45</td>\n",
       "      <td>0.5</td>\n",
       "      <td>0.866025</td>\n",
       "      <td>Книги - Аудиокниги 1С</td>\n",
       "      <td>Книги</td>\n",
       "    </tr>\n",
       "    <tr>\n",
       "      <th>4</th>\n",
       "      <td>0</td>\n",
       "      <td>2</td>\n",
       "      <td>471</td>\n",
       "      <td>Книги - Методические материалы 1С</td>\n",
       "      <td>798.0</td>\n",
       "      <td>2</td>\n",
       "      <td>98</td>\n",
       "      <td>0.5</td>\n",
       "      <td>0.866025</td>\n",
       "      <td>Книги - Методические материалы 1С</td>\n",
       "      <td>Книги</td>\n",
       "    </tr>\n",
       "  </tbody>\n",
       "</table>\n",
       "</div>"
      ],
      "text/plain": [
       "   date_block_num  shop_id  item_id                 item_category_name  \\\n",
       "0               0        2       27                         Игры - PS3   \n",
       "1               0        2       33                     Кино - Blu-Ray   \n",
       "2               0        2      317              Книги - Аудиокниги 1С   \n",
       "3               0        2      438              Книги - Аудиокниги 1С   \n",
       "4               0        2      471  Книги - Методические материалы 1С   \n",
       "\n",
       "   item_price  item_cnt_day  item_category_id  month_sin  month_cos  \\\n",
       "0      2499.0             1                19        0.5   0.866025   \n",
       "1       499.0             1                37        0.5   0.866025   \n",
       "2       299.0             1                45        0.5   0.866025   \n",
       "3       299.0             1                45        0.5   0.866025   \n",
       "4       798.0             2                98        0.5   0.866025   \n",
       "\n",
       "                            item_cat general_cat  \n",
       "0                         Игры - PS3        Игры  \n",
       "1                     Кино - Blu-Ray        Кино  \n",
       "2              Книги - Аудиокниги 1С       Книги  \n",
       "3              Книги - Аудиокниги 1С       Книги  \n",
       "4  Книги - Методические материалы 1С       Книги  "
      ]
     },
     "execution_count": 15,
     "metadata": {},
     "output_type": "execute_result"
    }
   ],
   "source": [
    "grouped.head()"
   ]
  },
  {
   "cell_type": "code",
   "execution_count": 16,
   "metadata": {},
   "outputs": [
    {
     "name": "stdout",
     "output_type": "stream",
     "text": [
      "-13 167\n"
     ]
    }
   ],
   "source": [
    "print(grouped['item_cnt_day'].min(), grouped['item_cnt_day'].max())"
   ]
  },
  {
   "cell_type": "code",
   "execution_count": 17,
   "metadata": {},
   "outputs": [
    {
     "name": "stdout",
     "output_type": "stream",
     "text": [
      "Learning rate set to 0.161567\n",
      "0:\tlearn: 3.6365442\ttest: 3.1328556\tbest: 3.1328556 (0)\ttotal: 568ms\tremaining: 9m 27s\n",
      "1:\tlearn: 3.4675710\ttest: 2.9459217\tbest: 2.9459217 (1)\ttotal: 953ms\tremaining: 7m 55s\n",
      "2:\tlearn: 3.3425742\ttest: 2.8216764\tbest: 2.8216764 (2)\ttotal: 1.29s\tremaining: 7m 10s\n",
      "3:\tlearn: 3.2492664\ttest: 2.7477886\tbest: 2.7477886 (3)\ttotal: 1.44s\tremaining: 5m 58s\n",
      "4:\tlearn: 3.1741964\ttest: 2.7009078\tbest: 2.7009078 (4)\ttotal: 1.56s\tremaining: 5m 10s\n",
      "5:\tlearn: 3.1219240\ttest: 2.6676380\tbest: 2.6676380 (5)\ttotal: 1.82s\tremaining: 5m 1s\n",
      "6:\tlearn: 3.0798157\ttest: 2.6583008\tbest: 2.6583008 (6)\ttotal: 1.96s\tremaining: 4m 38s\n",
      "7:\tlearn: 3.0456407\ttest: 2.6566851\tbest: 2.6566851 (7)\ttotal: 2.13s\tremaining: 4m 24s\n",
      "8:\tlearn: 3.0159017\ttest: 2.6687634\tbest: 2.6566851 (7)\ttotal: 2.42s\tremaining: 4m 26s\n",
      "9:\tlearn: 2.9963849\ttest: 2.6675696\tbest: 2.6566851 (7)\ttotal: 2.55s\tremaining: 4m 12s\n",
      "10:\tlearn: 2.9796710\ttest: 2.6666699\tbest: 2.6566851 (7)\ttotal: 2.67s\tremaining: 4m\n",
      "11:\tlearn: 2.9648027\ttest: 2.6742991\tbest: 2.6566851 (7)\ttotal: 2.85s\tremaining: 3m 54s\n",
      "12:\tlearn: 2.9494735\ttest: 2.6942556\tbest: 2.6566851 (7)\ttotal: 3.04s\tremaining: 3m 50s\n",
      "13:\tlearn: 2.9389061\ttest: 2.7163470\tbest: 2.6566851 (7)\ttotal: 3.16s\tremaining: 3m 42s\n",
      "14:\tlearn: 2.9318407\ttest: 2.7198082\tbest: 2.6566851 (7)\ttotal: 3.29s\tremaining: 3m 36s\n",
      "15:\tlearn: 2.9235946\ttest: 2.7262958\tbest: 2.6566851 (7)\ttotal: 3.4s\tremaining: 3m 29s\n",
      "16:\tlearn: 2.9181479\ttest: 2.7315682\tbest: 2.6566851 (7)\ttotal: 3.52s\tremaining: 3m 23s\n",
      "17:\tlearn: 2.9084435\ttest: 2.7405958\tbest: 2.6566851 (7)\ttotal: 3.82s\tremaining: 3m 28s\n",
      "18:\tlearn: 2.9025243\ttest: 2.7516835\tbest: 2.6566851 (7)\ttotal: 3.94s\tremaining: 3m 23s\n",
      "19:\tlearn: 2.8942555\ttest: 2.7644423\tbest: 2.6566851 (7)\ttotal: 4.18s\tremaining: 3m 24s\n",
      "20:\tlearn: 2.8862330\ttest: 2.7967994\tbest: 2.6566851 (7)\ttotal: 4.44s\tremaining: 3m 27s\n",
      "21:\tlearn: 2.8809157\ttest: 2.7993460\tbest: 2.6566851 (7)\ttotal: 4.55s\tremaining: 3m 22s\n",
      "22:\tlearn: 2.8756731\ttest: 2.8133821\tbest: 2.6566851 (7)\ttotal: 4.66s\tremaining: 3m 17s\n",
      "23:\tlearn: 2.8700228\ttest: 2.8186100\tbest: 2.6566851 (7)\ttotal: 4.83s\tremaining: 3m 16s\n",
      "24:\tlearn: 2.8666049\ttest: 2.8184922\tbest: 2.6566851 (7)\ttotal: 4.95s\tremaining: 3m 13s\n",
      "25:\tlearn: 2.8632409\ttest: 2.8232369\tbest: 2.6566851 (7)\ttotal: 5.16s\tremaining: 3m 13s\n",
      "26:\tlearn: 2.8597830\ttest: 2.8283827\tbest: 2.6566851 (7)\ttotal: 5.27s\tremaining: 3m 10s\n",
      "27:\tlearn: 2.8555046\ttest: 2.8313521\tbest: 2.6566851 (7)\ttotal: 5.39s\tremaining: 3m 7s\n",
      "28:\tlearn: 2.8533506\ttest: 2.8307921\tbest: 2.6566851 (7)\ttotal: 5.5s\tremaining: 3m 4s\n",
      "29:\tlearn: 2.8506774\ttest: 2.8341027\tbest: 2.6566851 (7)\ttotal: 5.62s\tremaining: 3m 1s\n",
      "30:\tlearn: 2.8484379\ttest: 2.8344779\tbest: 2.6566851 (7)\ttotal: 5.73s\tremaining: 2m 59s\n",
      "31:\tlearn: 2.8463459\ttest: 2.8394491\tbest: 2.6566851 (7)\ttotal: 5.85s\tremaining: 2m 57s\n",
      "32:\tlearn: 2.8447633\ttest: 2.8416440\tbest: 2.6566851 (7)\ttotal: 6.03s\tremaining: 2m 56s\n",
      "33:\tlearn: 2.8422254\ttest: 2.8430524\tbest: 2.6566851 (7)\ttotal: 6.16s\tremaining: 2m 54s\n",
      "34:\tlearn: 2.8396855\ttest: 2.8506747\tbest: 2.6566851 (7)\ttotal: 6.34s\tremaining: 2m 54s\n",
      "35:\tlearn: 2.8374512\ttest: 2.8510054\tbest: 2.6566851 (7)\ttotal: 6.46s\tremaining: 2m 52s\n",
      "36:\tlearn: 2.8330908\ttest: 2.8713377\tbest: 2.6566851 (7)\ttotal: 6.58s\tremaining: 2m 51s\n",
      "37:\tlearn: 2.8280110\ttest: 2.8755945\tbest: 2.6566851 (7)\ttotal: 6.73s\tremaining: 2m 50s\n",
      "38:\tlearn: 2.8251073\ttest: 2.8827644\tbest: 2.6566851 (7)\ttotal: 6.97s\tremaining: 2m 51s\n",
      "39:\tlearn: 2.8231162\ttest: 2.8840626\tbest: 2.6566851 (7)\ttotal: 7.16s\tremaining: 2m 51s\n",
      "40:\tlearn: 2.8215120\ttest: 2.8865728\tbest: 2.6566851 (7)\ttotal: 7.26s\tremaining: 2m 49s\n",
      "41:\tlearn: 2.8190194\ttest: 2.8914854\tbest: 2.6566851 (7)\ttotal: 7.54s\tremaining: 2m 52s\n",
      "42:\tlearn: 2.8178446\ttest: 2.8902736\tbest: 2.6566851 (7)\ttotal: 7.64s\tremaining: 2m 50s\n",
      "43:\tlearn: 2.8167851\ttest: 2.8890542\tbest: 2.6566851 (7)\ttotal: 7.91s\tremaining: 2m 51s\n",
      "44:\tlearn: 2.8117580\ttest: 2.8860867\tbest: 2.6566851 (7)\ttotal: 8.03s\tremaining: 2m 50s\n",
      "45:\tlearn: 2.8107010\ttest: 2.8839411\tbest: 2.6566851 (7)\ttotal: 8.15s\tremaining: 2m 49s\n",
      "46:\tlearn: 2.8082200\ttest: 2.8823871\tbest: 2.6566851 (7)\ttotal: 8.28s\tremaining: 2m 47s\n",
      "47:\tlearn: 2.8063942\ttest: 2.8806913\tbest: 2.6566851 (7)\ttotal: 8.39s\tremaining: 2m 46s\n",
      "48:\tlearn: 2.8025747\ttest: 2.8844150\tbest: 2.6566851 (7)\ttotal: 8.61s\tremaining: 2m 47s\n",
      "49:\tlearn: 2.7974050\ttest: 2.8860239\tbest: 2.6566851 (7)\ttotal: 8.89s\tremaining: 2m 48s\n",
      "50:\tlearn: 2.7942875\ttest: 2.8807796\tbest: 2.6566851 (7)\ttotal: 9.01s\tremaining: 2m 47s\n",
      "51:\tlearn: 2.7919090\ttest: 2.8789959\tbest: 2.6566851 (7)\ttotal: 9.12s\tremaining: 2m 46s\n",
      "52:\tlearn: 2.7908853\ttest: 2.8807588\tbest: 2.6566851 (7)\ttotal: 9.23s\tremaining: 2m 44s\n",
      "53:\tlearn: 2.7878333\ttest: 2.8798878\tbest: 2.6566851 (7)\ttotal: 9.47s\tremaining: 2m 45s\n",
      "54:\tlearn: 2.7840256\ttest: 2.8916013\tbest: 2.6566851 (7)\ttotal: 9.73s\tremaining: 2m 47s\n",
      "55:\tlearn: 2.7808603\ttest: 2.8896431\tbest: 2.6566851 (7)\ttotal: 9.85s\tremaining: 2m 46s\n",
      "56:\tlearn: 2.7794999\ttest: 2.8890263\tbest: 2.6566851 (7)\ttotal: 9.97s\tremaining: 2m 44s\n",
      "57:\tlearn: 2.7771162\ttest: 2.8886389\tbest: 2.6566851 (7)\ttotal: 10.3s\tremaining: 2m 46s\n",
      "58:\tlearn: 2.7751360\ttest: 2.8850324\tbest: 2.6566851 (7)\ttotal: 10.4s\tremaining: 2m 46s\n",
      "59:\tlearn: 2.7722717\ttest: 2.8874610\tbest: 2.6566851 (7)\ttotal: 10.7s\tremaining: 2m 47s\n",
      "60:\tlearn: 2.7708805\ttest: 2.8837896\tbest: 2.6566851 (7)\ttotal: 10.9s\tremaining: 2m 47s\n",
      "61:\tlearn: 2.7698416\ttest: 2.8838370\tbest: 2.6566851 (7)\ttotal: 11.2s\tremaining: 2m 48s\n",
      "62:\tlearn: 2.7685063\ttest: 2.8828405\tbest: 2.6566851 (7)\ttotal: 11.3s\tremaining: 2m 47s\n",
      "63:\tlearn: 2.7669314\ttest: 2.8809053\tbest: 2.6566851 (7)\ttotal: 11.5s\tremaining: 2m 48s\n",
      "64:\tlearn: 2.7648482\ttest: 2.8896826\tbest: 2.6566851 (7)\ttotal: 11.8s\tremaining: 2m 49s\n",
      "65:\tlearn: 2.7632433\ttest: 2.8959758\tbest: 2.6566851 (7)\ttotal: 12s\tremaining: 2m 49s\n",
      "66:\tlearn: 2.7612714\ttest: 2.8987400\tbest: 2.6566851 (7)\ttotal: 12.4s\tremaining: 2m 52s\n",
      "67:\tlearn: 2.7590593\ttest: 2.8987397\tbest: 2.6566851 (7)\ttotal: 12.5s\tremaining: 2m 51s\n",
      "68:\tlearn: 2.7568185\ttest: 2.8995241\tbest: 2.6566851 (7)\ttotal: 12.8s\tremaining: 2m 52s\n",
      "69:\tlearn: 2.7552484\ttest: 2.8970199\tbest: 2.6566851 (7)\ttotal: 13s\tremaining: 2m 53s\n",
      "70:\tlearn: 2.7530068\ttest: 2.8954896\tbest: 2.6566851 (7)\ttotal: 13.3s\tremaining: 2m 53s\n",
      "71:\tlearn: 2.7513109\ttest: 2.8908017\tbest: 2.6566851 (7)\ttotal: 13.4s\tremaining: 2m 52s\n",
      "72:\tlearn: 2.7493635\ttest: 2.8898287\tbest: 2.6566851 (7)\ttotal: 13.5s\tremaining: 2m 51s\n",
      "73:\tlearn: 2.7487224\ttest: 2.8894075\tbest: 2.6566851 (7)\ttotal: 13.6s\tremaining: 2m 50s\n",
      "74:\tlearn: 2.7469321\ttest: 2.8859898\tbest: 2.6566851 (7)\ttotal: 13.8s\tremaining: 2m 49s\n",
      "75:\tlearn: 2.7462386\ttest: 2.8837869\tbest: 2.6566851 (7)\ttotal: 13.9s\tremaining: 2m 48s\n",
      "76:\tlearn: 2.7457335\ttest: 2.8833520\tbest: 2.6566851 (7)\ttotal: 14s\tremaining: 2m 47s\n",
      "77:\tlearn: 2.7453664\ttest: 2.8836654\tbest: 2.6566851 (7)\ttotal: 14.1s\tremaining: 2m 46s\n",
      "78:\tlearn: 2.7428999\ttest: 2.8833567\tbest: 2.6566851 (7)\ttotal: 14.3s\tremaining: 2m 47s\n",
      "79:\tlearn: 2.7416693\ttest: 2.8804130\tbest: 2.6566851 (7)\ttotal: 14.4s\tremaining: 2m 46s\n",
      "80:\tlearn: 2.7407107\ttest: 2.8779668\tbest: 2.6566851 (7)\ttotal: 14.6s\tremaining: 2m 45s\n",
      "81:\tlearn: 2.7385567\ttest: 2.8726690\tbest: 2.6566851 (7)\ttotal: 14.9s\tremaining: 2m 46s\n",
      "82:\tlearn: 2.7371620\ttest: 2.8737252\tbest: 2.6566851 (7)\ttotal: 15.1s\tremaining: 2m 46s\n",
      "83:\tlearn: 2.7359541\ttest: 2.8734477\tbest: 2.6566851 (7)\ttotal: 15.2s\tremaining: 2m 45s\n",
      "84:\tlearn: 2.7347832\ttest: 2.8742854\tbest: 2.6566851 (7)\ttotal: 15.3s\tremaining: 2m 45s\n",
      "85:\tlearn: 2.7312321\ttest: 2.8745496\tbest: 2.6566851 (7)\ttotal: 15.6s\tremaining: 2m 45s\n",
      "86:\tlearn: 2.7278550\ttest: 2.8822909\tbest: 2.6566851 (7)\ttotal: 15.9s\tremaining: 2m 46s\n",
      "87:\tlearn: 2.7250034\ttest: 2.8961201\tbest: 2.6566851 (7)\ttotal: 16s\tremaining: 2m 46s\n",
      "88:\tlearn: 2.7241385\ttest: 2.8959409\tbest: 2.6566851 (7)\ttotal: 16.1s\tremaining: 2m 45s\n",
      "89:\tlearn: 2.7237293\ttest: 2.8966174\tbest: 2.6566851 (7)\ttotal: 16.3s\tremaining: 2m 44s\n",
      "90:\tlearn: 2.7219507\ttest: 2.8953597\tbest: 2.6566851 (7)\ttotal: 16.5s\tremaining: 2m 44s\n",
      "91:\tlearn: 2.7199264\ttest: 2.8944476\tbest: 2.6566851 (7)\ttotal: 16.8s\tremaining: 2m 45s\n",
      "92:\tlearn: 2.7186848\ttest: 2.8908565\tbest: 2.6566851 (7)\ttotal: 16.9s\tremaining: 2m 44s\n",
      "93:\tlearn: 2.7178291\ttest: 2.8882524\tbest: 2.6566851 (7)\ttotal: 17s\tremaining: 2m 43s\n",
      "94:\tlearn: 2.7164802\ttest: 2.8865259\tbest: 2.6566851 (7)\ttotal: 17.1s\tremaining: 2m 43s\n",
      "95:\tlearn: 2.7153005\ttest: 2.8863613\tbest: 2.6566851 (7)\ttotal: 17.4s\tremaining: 2m 43s\n",
      "96:\tlearn: 2.7127873\ttest: 2.8959831\tbest: 2.6566851 (7)\ttotal: 17.6s\tremaining: 2m 44s\n",
      "97:\tlearn: 2.7123353\ttest: 2.8944143\tbest: 2.6566851 (7)\ttotal: 17.8s\tremaining: 2m 43s\n",
      "98:\tlearn: 2.7113028\ttest: 2.8943395\tbest: 2.6566851 (7)\ttotal: 18.1s\tremaining: 2m 44s\n",
      "99:\tlearn: 2.7109089\ttest: 2.8934679\tbest: 2.6566851 (7)\ttotal: 18.4s\tremaining: 2m 45s\n",
      "100:\tlearn: 2.7093054\ttest: 2.8927540\tbest: 2.6566851 (7)\ttotal: 18.6s\tremaining: 2m 45s\n",
      "101:\tlearn: 2.7074350\ttest: 2.8929219\tbest: 2.6566851 (7)\ttotal: 19s\tremaining: 2m 46s\n",
      "102:\tlearn: 2.7072158\ttest: 2.8924374\tbest: 2.6566851 (7)\ttotal: 19.1s\tremaining: 2m 46s\n",
      "103:\tlearn: 2.7048505\ttest: 2.8913944\tbest: 2.6566851 (7)\ttotal: 19.4s\tremaining: 2m 47s\n",
      "104:\tlearn: 2.7027811\ttest: 2.8915936\tbest: 2.6566851 (7)\ttotal: 19.5s\tremaining: 2m 46s\n",
      "105:\tlearn: 2.7022464\ttest: 2.8900802\tbest: 2.6566851 (7)\ttotal: 19.7s\tremaining: 2m 46s\n",
      "106:\tlearn: 2.7008192\ttest: 2.8918577\tbest: 2.6566851 (7)\ttotal: 19.9s\tremaining: 2m 45s\n",
      "107:\tlearn: 2.7000735\ttest: 2.8925096\tbest: 2.6566851 (7)\ttotal: 20s\tremaining: 2m 44s\n",
      "Stopped by overfitting detector  (100 iterations wait)\n",
      "\n",
      "bestTest = 2.656685141\n",
      "bestIteration = 7\n",
      "\n",
      "Shrink model to first 8 iterations.\n"
     ]
    }
   ],
   "source": [
    "catboost_model = train_model(\n",
    "    grouped, cat_cols, in_features, target, lower=0, upper=33)"
   ]
  },
  {
   "cell_type": "code",
   "execution_count": 18,
   "metadata": {},
   "outputs": [],
   "source": [
    "test = extract_features(test, sources, new_features, extractors)"
   ]
  },
  {
   "cell_type": "code",
   "execution_count": 19,
   "metadata": {},
   "outputs": [],
   "source": [
    "predicts = catboost_model.predict(test[in_features])\n",
    "submission = pd.DataFrame({'ID':range(len(predicts)), 'item_cnt_month':predicts})\n",
    "filename = os.path.join(DATA_DIR, 'submission.csv')\n",
    "submission.to_csv(filename, index=False)"
   ]
  },
  {
   "cell_type": "code",
   "execution_count": 20,
   "metadata": {},
   "outputs": [],
   "source": [
    "global_history = dict()"
   ]
  },
  {
   "cell_type": "code",
   "execution_count": 21,
   "metadata": {},
   "outputs": [],
   "source": [
    "loader = FoldLoader(grouped, 12, folding_mode='stack')"
   ]
  },
  {
   "cell_type": "code",
   "execution_count": 23,
   "metadata": {},
   "outputs": [
    {
     "data": {
      "application/vnd.jupyter.widget-view+json": {
       "model_id": "33904b7817544b528e7359f52abf4d63",
       "version_major": 2,
       "version_minor": 0
      },
      "text/plain": [
       "  0%|          | 0/22 [00:00<?, ?it/s]"
      ]
     },
     "metadata": {},
     "output_type": "display_data"
    }
   ],
   "source": [
    "template = 'fold: [{:2} out of {:2}]\\tR2-score: [{:3.3f}]\\tRMSE: [{:3.3f}]'\n",
    "index = 1\n",
    "history = {'loss': [], 'score': []}\n",
    "loader.reset_folds()\n",
    "model = cb.CatBoostRegressor(cat_features=cat_cols, random_seed=67)\n",
    "for train, val in tqdm(loader):\n",
    "    # fetch data\n",
    "    train_data = cb.Pool(train[in_features],\n",
    "                         train[target], cat_features=cat_cols)\n",
    "    val_data = cb.Pool(val[in_features], val[target], cat_features=cat_cols)\n",
    "    # reset the model\n",
    "    model.fit(train_data, verbose=False)\n",
    "\n",
    "    # validate\n",
    "    preds = model.predict(val[in_features])\n",
    "    rmse = (np.sqrt(mean_squared_error(val[target], preds)))\n",
    "    r2 = r2_score(val[target], preds)\n",
    "    history['score'].append(r2)\n",
    "    history['loss'].append(rmse)\n",
    "    print(template.format(index, len(loader), r2, rmse))\n",
    "    index += 1\n",
    "global_history['catboost'] = history"
   ]
  },
  {
   "cell_type": "code",
   "execution_count": null,
   "metadata": {},
   "outputs": [],
   "source": [
    "loader = FoldLoader(data, [in_features])"
   ]
  },
  {
   "cell_type": "code",
   "execution_count": 55,
   "metadata": {},
   "outputs": [
    {
     "data": {
      "application/vnd.jupyter.widget-view+json": {
       "model_id": "9fc49f5629a2499bb752ebd5fefaddd3",
       "version_major": 2,
       "version_minor": 0
      },
      "text/plain": [
       "  0%|          | 0/8 [00:00<?, ?it/s]"
      ]
     },
     "metadata": {},
     "output_type": "display_data"
    },
    {
     "name": "stdout",
     "output_type": "stream",
     "text": [
      "fold: [ 1 out of  8]\tR2-score: [0.593]\tRMSE: [1.884]\n",
      "fold: [ 2 out of  8]\tR2-score: [0.782]\tRMSE: [1.776]\n",
      "fold: [ 3 out of  8]\tR2-score: [0.824]\tRMSE: [2.008]\n",
      "fold: [ 4 out of  8]\tR2-score: [0.823]\tRMSE: [1.610]\n",
      "fold: [ 5 out of  8]\tR2-score: [0.730]\tRMSE: [2.022]\n",
      "fold: [ 6 out of  8]\tR2-score: [0.836]\tRMSE: [1.916]\n",
      "fold: [ 7 out of  8]\tR2-score: [0.598]\tRMSE: [2.367]\n",
      "fold: [ 8 out of  8]\tR2-score: [0.626]\tRMSE: [1.990]\n"
     ]
    }
   ],
   "source": []
  },
  {
   "cell_type": "markdown",
   "metadata": {},
   "source": [
    "## RandomForest\n",
    "\n",
    "this one requires manually encoding some features, since it can't process categorical features out-of-the-box. again, planning to see the scores I get and compare to others\n"
   ]
  },
  {
   "cell_type": "code",
   "execution_count": null,
   "metadata": {},
   "outputs": [],
   "source": []
  },
  {
   "cell_type": "markdown",
   "metadata": {},
   "source": [
    "## RNN\n",
    "\n",
    "requires encoding cat. features too.\n"
   ]
  }
 ],
 "metadata": {
  "kernelspec": {
   "display_name": "venv",
   "language": "python",
   "name": "python3"
  },
  "language_info": {
   "codemirror_mode": {
    "name": "ipython",
    "version": 3
   },
   "file_extension": ".py",
   "mimetype": "text/x-python",
   "name": "python",
   "nbconvert_exporter": "python",
   "pygments_lexer": "ipython3",
   "version": "3.11.8"
  }
 },
 "nbformat": 4,
 "nbformat_minor": 2
}

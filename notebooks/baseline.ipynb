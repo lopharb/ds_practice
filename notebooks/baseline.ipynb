{
 "cells": [
  {
   "cell_type": "markdown",
   "metadata": {},
   "source": [
    "## Raw ideas\n"
   ]
  },
  {
   "cell_type": "markdown",
   "metadata": {},
   "source": [
    "so here's a few quick ideas for a validation schema:\n",
    "\n",
    "- data shouldn't be shuffled before training, cause it's essential to have the time series values in consecutive order\n",
    "- currently I came up with three ideas for a schema:\n",
    "\n",
    "  1. `1,2train+3valid` -> `1,2,3train+4valid` -> `1,2,3,4train+5valid` etc.\n",
    "\n",
    "     **Advatages**:\n",
    "\n",
    "     - the train set grows, probably helping to test model's robustness\n",
    "     - we always validate on different parts of the training set\n",
    "\n",
    "     **Disadvantages**:\n",
    "\n",
    "     - computationally heavy. at some point our train will contain almost the entire dataset\n",
    "\n",
    "  2. `1,2train+3valid` -> `2,3train+4valid` -> `3,4train+5valid`\n",
    "\n",
    "     **Advantages**:\n",
    "\n",
    "     - fixed train size, no computational power issues\n",
    "     - we can somewhat efficiently use our dataset since we use each fold several times during different trainig sessions\n",
    "\n",
    "     **Disadvantages**:\n",
    "\n",
    "     - the fact that different sets overlap might be a problem (shouldn't be, but who knows)\n",
    "\n",
    "  3. `1,2train+3valid` -> `4,5train+6valid` -> `7,8train+9valid`\n",
    "\n",
    "     **Advantages**:\n",
    "\n",
    "     - the easiest one to implement, goes through each fold once only\n",
    "     - it's guaranteed that there's no overlapping or data leaks\n",
    "\n",
    "     **Disadvantages**:\n",
    "\n",
    "     - data hugry in some sense, each fold is used only ones and each trainig session takes $f_{train} + 1$ folds, where $f_{train}$ is the amount of folds for the trainig set. this might be a problem assuming we have only 33 folds at maximum\n"
   ]
  },
  {
   "cell_type": "markdown",
   "metadata": {},
   "source": [
    "model ideas:\n",
    "\n",
    "- **decision tree-based algorithms (boosting, random forest)**:\n",
    "\n",
    "  seems to be a good choice for the task since we have a lot of categorical features and the target is a discrete variable (which is typical for decision tree regression). at the same time, trees can be overfit easily, which can cause a huge loss in robustness and very inaccurate predictions on unseen data. ensembles will help to resolve this, but the problem of overfitting won't be gone completely. also, decision trees don't work well once something completely unseen shows up in input data, which might be a problem during future usage\n",
    "\n",
    "- **auto-regressive models**:\n",
    "\n",
    "  a time-series specific solution, that's supposed to do a good job at predicting future sales based on historical data. the main problems are the following: 1. I don't have any experience working with them (but we'll still try I guess) 2. the data is still quite noisy, so using AR models will require some additional preprocessing\n",
    "\n",
    "- **RNNs**:\n",
    "\n",
    "  one of the hardest models to implement, but at the same time a really powerfull (in theory) solution, that by definition fits the task idea quite well. RNNs can be really good when it comes to analyzing consecitive data (like text processing or time series)\n"
   ]
  },
  {
   "cell_type": "markdown",
   "metadata": {},
   "source": [
    "useful additional features:\n",
    "\n",
    "- month\n",
    "- year\n",
    "- lagged values (look them up in `EDA`)\n",
    "- ...\n"
   ]
  },
  {
   "cell_type": "markdown",
   "metadata": {},
   "source": [
    "## Loading and preparing the data\n",
    "\n",
    "the point is to load the data in a format that's actually going to be fed to the model\n"
   ]
  },
  {
   "cell_type": "code",
   "execution_count": 1,
   "metadata": {},
   "outputs": [],
   "source": [
    "from sys import path\n",
    "path.append('../')"
   ]
  },
  {
   "cell_type": "code",
   "execution_count": 2,
   "metadata": {},
   "outputs": [],
   "source": [
    "from src.utils import FoldLoader, FeatureExtractor\n",
    "from src.transform import ETL\n",
    "from src.train_model import train_model\n",
    "from sklearn.ensemble import RandomForestRegressor\n",
    "from tqdm.notebook import tqdm\n",
    "from sklearn.metrics import mean_squared_error\n",
    "from sklearn.metrics import r2_score\n",
    "from matplotlib import pyplot as plt\n",
    "import os\n",
    "import xgboost\n",
    "import seaborn as sns\n",
    "import catboost as cb\n",
    "import numpy as np\n",
    "import pandas as pd\n",
    "import re\n",
    "from math import sin, cos, pi\n",
    "from warnings import filterwarnings\n",
    "filterwarnings('ignore', category=FutureWarning)"
   ]
  },
  {
   "cell_type": "code",
   "execution_count": 3,
   "metadata": {},
   "outputs": [],
   "source": [
    "DATA_DIR = '../data/competitive-data-science-predict-future-sales/'"
   ]
  },
  {
   "cell_type": "code",
   "execution_count": 4,
   "metadata": {},
   "outputs": [],
   "source": [
    "def etl_process():\n",
    "    pipeline = ETL(DATA_DIR, ['sales_train.csv',\n",
    "                   'items', 'shops', 'item_categories'])\n",
    "    pipeline.extract()\n",
    "    pipeline.tarnsform()\n",
    "    pipeline.load(os.path.join(DATA_DIR, 'processed_files/'))"
   ]
  },
  {
   "cell_type": "code",
   "execution_count": 5,
   "metadata": {},
   "outputs": [],
   "source": [
    "# uncomment if data reloading is needed (made this specifically after switching\n",
    "# the working device since the data dir is not on github)\n",
    "# etl_process()"
   ]
  },
  {
   "cell_type": "code",
   "execution_count": 6,
   "metadata": {},
   "outputs": [],
   "source": [
    "data = pd.read_csv(os.path.join(\n",
    "    DATA_DIR, 'processed_files/processed_data.csv'))\n",
    "categories = pd.read_csv(os.path.join(DATA_DIR, 'item_categories.csv'))\n",
    "items = pd.read_csv(os.path.join(DATA_DIR, 'items.csv'))\n",
    "shops = pd.read_csv(os.path.join(DATA_DIR, 'shops.csv'))\n",
    "test = pd.read_csv(os.path.join(DATA_DIR, 'test.csv'))"
   ]
  },
  {
   "cell_type": "code",
   "execution_count": 7,
   "metadata": {},
   "outputs": [],
   "source": [
    "extractor = FeatureExtractor(data, \n",
    "                             test, \n",
    "                             items, \n",
    "                             shops, \n",
    "                             categories, \n",
    "                             34)"
   ]
  },
  {
   "cell_type": "markdown",
   "metadata": {},
   "source": [
    "## Feature extraction\n"
   ]
  },
  {
   "cell_type": "code",
   "execution_count": 8,
   "metadata": {},
   "outputs": [],
   "source": [
    "in_features = ['shop_id', 'item_id']\n",
    "target = 'item_cnt_day'\n",
    "cat_cols = ['shop_id', 'item_id']"
   ]
  },
  {
   "cell_type": "code",
   "execution_count": 9,
   "metadata": {},
   "outputs": [],
   "source": [
    "item_cats = items.merge(categories, how='inner', on='item_category_id')\n",
    "lookup = {}\n",
    "shop_types = ['ТЦ', 'ТРК', 'ТРЦ', 'ЧС', 'МТРЦ', 'ТК', 'Выездная']\n",
    "\n",
    "\n",
    "def month_wrapper(func: callable):\n",
    "    def ex_month(x):\n",
    "        month = x % 12 + 1\n",
    "        return func(2*pi*month/12)\n",
    "    return ex_month\n",
    "\n",
    "\n",
    "def fetch_cat(id):\n",
    "    if id not in lookup:\n",
    "        lookup[id] = item_cats[item_cats['item_id'] == id]['item_category_name'].unique()[\n",
    "            0]\n",
    "    return lookup[id]\n",
    "\n",
    "\n",
    "def gen_cat(id):\n",
    "    cat = fetch_cat(id)\n",
    "    return 'Игры' if cat.startswith('Игры') \\\n",
    "        else re.split(r'\\s*-\\s*', cat)[0]\n",
    "\n",
    "\n",
    "def get_shop_type(shop_name):\n",
    "    for st in shop_types:\n",
    "        if st in shop_name:\n",
    "            return st\n",
    "    return 'Other'\n",
    "\n",
    "\n",
    "\n",
    "new_features = [\n",
    "    'month_sin',\n",
    "    'month_cos',\n",
    "    'item_cat',\n",
    "    'general_cat',\n",
    "    'city',\n",
    "    'shop_type'\n",
    "]\n",
    "sources = [\n",
    "    'date_block_num',\n",
    "    'date_block_num',\n",
    "    'item_id',\n",
    "    'item_id',\n",
    "    'shop_name',\n",
    "    'shop_name'\n",
    "]\n",
    "extractors = [\n",
    "    month_wrapper(sin),\n",
    "    month_wrapper(cos),\n",
    "    fetch_cat,\n",
    "    gen_cat,\n",
    "    lambda x: x.split()[0],\n",
    "    get_shop_type\n",
    "]\n",
    "\n",
    "extractor.extract_features(sources, new_features, extractors)\n",
    "\n",
    "in_features += new_features\n",
    "cat_cols += [\n",
    "    'item_cat',\n",
    "    'general_cat',\n",
    "    'city',\n",
    "    'shop_type'\n",
    "]\n",
    "\n",
    "# done"
   ]
  },
  {
   "cell_type": "code",
   "execution_count": 10,
   "metadata": {},
   "outputs": [],
   "source": [
    "for lag in range(1, 5):\n",
    "    extractor.add_lags('item_price', lag, ['shop_id', 'item_id'])\n",
    "    extractor.add_lags('item_cnt_day', lag, ['shop_id', 'item_id'])"
   ]
  },
  {
   "cell_type": "code",
   "execution_count": 19,
   "metadata": {},
   "outputs": [],
   "source": [
    "extractor.train[target] = extractor.train[target].clip(0, 30)"
   ]
  },
  {
   "cell_type": "code",
   "execution_count": 11,
   "metadata": {},
   "outputs": [],
   "source": [
    "# first_time_sales = grouped[['date_block_num', 'item_id']].groupby('item_id', as_index=False).min()\n",
    "# grouped = grouped.merge(first_time_sales, how='inner', on='item_id', suffixes=['init', 'fts'])\n",
    "# grouped = grouped.rename(columns={'date_block_numinit':'date_block_num', 'date_block_numfts':'first_sold'})"
   ]
  },
  {
   "cell_type": "code",
   "execution_count": 12,
   "metadata": {},
   "outputs": [],
   "source": [
    "# grouped['since_first_sale'] = grouped['date_block_num'] - grouped['first_sold']"
   ]
  },
  {
   "cell_type": "markdown",
   "metadata": {},
   "source": [
    "## Catboost\n"
   ]
  },
  {
   "cell_type": "code",
   "execution_count": 13,
   "metadata": {},
   "outputs": [
    {
     "data": {
      "text/plain": [
       "['date_block_num',\n",
       " 'shop_id',\n",
       " 'item_id',\n",
       " 'month_sin',\n",
       " 'month_cos',\n",
       " 'item_cat',\n",
       " 'general_cat',\n",
       " 'city',\n",
       " 'shop_type',\n",
       " 'item_price_lag_1',\n",
       " 'item_cnt_day_lag_1',\n",
       " 'item_price_lag_2',\n",
       " 'item_cnt_day_lag_2',\n",
       " 'item_price_lag_3',\n",
       " 'item_cnt_day_lag_3',\n",
       " 'item_price_lag_4',\n",
       " 'item_cnt_day_lag_4']"
      ]
     },
     "execution_count": 13,
     "metadata": {},
     "output_type": "execute_result"
    }
   ],
   "source": [
    "extractor.features"
   ]
  },
  {
   "cell_type": "code",
   "execution_count": null,
   "metadata": {},
   "outputs": [],
   "source": [
    "model = cb.CatBoostRegressor(cat_features=cat_cols, random_seed=42)\n",
    "catboost_model = train_model(model,\n",
    "                             extractor.train, \n",
    "                             cat_cols, \n",
    "                             extractor.features, \n",
    "                             target, lower=0, upper=33)"
   ]
  },
  {
   "cell_type": "code",
   "execution_count": 15,
   "metadata": {},
   "outputs": [],
   "source": [
    "def create_submission(model, test_df: pd.DataFrame,  in_features: list[str], filename: str, round=False):\n",
    "    predicts = model.predict(test_df[in_features])\n",
    "    if round:\n",
    "        predicts = [int(x) for x in predicts]\n",
    "    submission = pd.DataFrame(\n",
    "        {'ID': range(len(predicts)), 'item_cnt_month': predicts})\n",
    "    filename_ = os.path.join(DATA_DIR, filename)\n",
    "    submission.to_csv(filename_, index=False)\n",
    "    return predicts"
   ]
  },
  {
   "cell_type": "code",
   "execution_count": 22,
   "metadata": {},
   "outputs": [],
   "source": [
    "predictions = create_submission(\n",
    "    catboost_model, extractor.test, extractor.features, 'usual_subm.csv', True)"
   ]
  },
  {
   "cell_type": "code",
   "execution_count": 25,
   "metadata": {},
   "outputs": [],
   "source": [
    "loader = FoldLoader(extractor.train, 8, n_valid_folds=2, folding_mode='seq')"
   ]
  },
  {
   "cell_type": "code",
   "execution_count": 27,
   "metadata": {},
   "outputs": [
    {
     "data": {
      "application/vnd.jupyter.widget-view+json": {
       "model_id": "ab7eb9189510490cb36c4284cac2725b",
       "version_major": 2,
       "version_minor": 0
      },
      "text/plain": [
       "  0%|          | 0/3 [00:00<?, ?it/s]"
      ]
     },
     "metadata": {},
     "output_type": "display_data"
    },
    {
     "name": "stdout",
     "output_type": "stream",
     "text": [
      "fold: [ 1 out of  3]\tRMSE-train: [1.999]\tRMSE-val: [2.729]\n",
      "fold: [ 2 out of  3]\tRMSE-train: [2.148]\tRMSE-val: [2.006]\n",
      "fold: [ 3 out of  3]\tRMSE-train: [2.086]\tRMSE-val: [1.955]\n"
     ]
    }
   ],
   "source": [
    "template = 'fold: [{:2} out of {:2}]\\tRMSE-train: [{:3.3f}]\\tRMSE-val: [{:3.3f}]'\n",
    "index = 1\n",
    "history = {'loss': [], 'score': []}\n",
    "loader.reset_folds()\n",
    "model = cb.CatBoostRegressor(cat_features=cat_cols, random_seed=42)\n",
    "for train, val in tqdm(loader):\n",
    "    # fetch data\n",
    "    train_data = cb.Pool(train[extractor.features],\n",
    "                         train[target], cat_features=cat_cols)\n",
    "    val_data = cb.Pool(val[extractor.features], val[target], cat_features=cat_cols)\n",
    "    # reset the model\n",
    "    model.fit(train_data, eval_set=val_data, use_best_model=True,\n",
    "              verbose=False, early_stopping_rounds=50)\n",
    "\n",
    "    # validate\n",
    "    preds = model.predict(train[extractor.features])\n",
    "    rmse_train = (np.sqrt(mean_squared_error(train[target], preds)))\n",
    "    preds = model.predict(val[extractor.features])\n",
    "    rmse_val = (np.sqrt(mean_squared_error(val[target], preds)))\n",
    "    print(template.format(index, len(loader), rmse_train, rmse_val))\n",
    "    index += 1"
   ]
  },
  {
   "cell_type": "code",
   "execution_count": 31,
   "metadata": {},
   "outputs": [],
   "source": [
    "preds = create_submission(model, extractor.test, extractor.features,\n",
    "                  'stack_trained_subm.csv', round=False)"
   ]
  },
  {
   "attachments": {
    "image-2.png": {
     "image/png": "[encoded data removed]"
    }
   },
   "cell_type": "markdown",
   "metadata": {},
   "source": [
    "### CatBoost conclusion\n",
    "\n",
    "So, the results are explainable, scores on validation and testing are approx. the same\n",
    "The scores themselves aren't that good and I'm not sure what I can do about it.\n",
    "Currently it seems like no matter what I do, the model starts overfitting after\n",
    "reaching the score of approx `2.65`, which doesn't seem that good\n",
    "\n",
    "Right now the plan is to try different types of model and see if they will have\n",
    "any similar issues\n",
    "\n",
    "currenty the score situation is as follows:\n",
    "\n",
    "![image-2.png](attachment:image-2.png)\n",
    "\n",
    "basing on those results it seems like it's better to train the model on more recent data, which makes it adapt to\n",
    "the trend better (also idk if it's fair to round the predictions, but it does increase the score by a fair amount)"
   ]
  },
  {
   "cell_type": "markdown",
   "metadata": {},
   "source": [
    "## XGBoost\n"
   ]
  },
  {
   "cell_type": "markdown",
   "metadata": {},
   "source": [
    "## RandomForest\n",
    "\n",
    "this one requires manually encoding some features, since it can't process categorical features out-of-the-box. again, planning to see the scores I get and compare to others\n"
   ]
  },
  {
   "cell_type": "code",
   "execution_count": null,
   "metadata": {},
   "outputs": [],
   "source": []
  },
  {
   "cell_type": "markdown",
   "metadata": {},
   "source": [
    "## RNN\n",
    "\n",
    "requires encoding cat. features too.\n"
   ]
  }
 ],
 "metadata": {
  "kernelspec": {
   "display_name": "venv",
   "language": "python",
   "name": "python3"
  },
  "language_info": {
   "codemirror_mode": {
    "name": "ipython",
    "version": 3
   },
   "file_extension": ".py",
   "mimetype": "text/x-python",
   "name": "python",
   "nbconvert_exporter": "python",
   "pygments_lexer": "ipython3",
   "version": "3.11.8"
  }
 },
 "nbformat": 4,
 "nbformat_minor": 2
}

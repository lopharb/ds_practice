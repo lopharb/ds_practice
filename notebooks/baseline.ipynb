{
 "cells": [
  {
   "cell_type": "markdown",
   "metadata": {},
   "source": [
    "## Raw ideas\n"
   ]
  },
  {
   "cell_type": "markdown",
   "metadata": {},
   "source": [
    "so here's a few quick ideas for a validation schema:\n",
    "\n",
    "- data shouldn't be shuffled before training, cause it's essential to have the time series values in consecutive order\n",
    "- currently I came up with three ideas for a schema:\n",
    "\n",
    "  1. `1,2train+3valid` -> `1,2,3train+4valid` -> `1,2,3,4train+5valid` etc.\n",
    "\n",
    "     **Advatages**:\n",
    "\n",
    "     - the train set grows, probably helping to test model's robustness\n",
    "     - we always validate on different parts of the training set\n",
    "\n",
    "     **Disadvantages**:\n",
    "\n",
    "     - computationally heavy. at some point our train will contain almost the entire dataset\n",
    "\n",
    "  2. `1,2train+3valid` -> `2,3train+4valid` -> `3,4train+5valid`\n",
    "\n",
    "     **Advantages**:\n",
    "\n",
    "     - fixed train size, no computational power issues\n",
    "     - we can somewhat efficiently use our dataset since we use each fold several times during different trainig sessions\n",
    "\n",
    "     **Disadvantages**:\n",
    "\n",
    "     - the fact that different sets overlap might be a problem (shouldn't be, but who knows)\n",
    "\n",
    "  3. `1,2train+3valid` -> `4,5train+6valid` -> `7,8train+9valid`\n",
    "\n",
    "     **Advantages**:\n",
    "\n",
    "     - the easiest one to implement, goes through each fold once only\n",
    "     - it's guaranteed that there's no overlapping or data leaks\n",
    "\n",
    "     **Disadvantages**:\n",
    "\n",
    "     - data hugry in some sense, each fold is used only ones and each trainig session takes $f_{train} + 1$ folds, where $f_{train}$ is the amount of folds for the trainig set. this might be a problem assuming we have only 33 folds at maximum\n"
   ]
  },
  {
   "cell_type": "markdown",
   "metadata": {},
   "source": [
    "model ideas:\n",
    "\n",
    "- **decision tree-based algorithms (boosting, random forest)**:\n",
    "\n",
    "  seems to be a good choice for the task since we have a lot of categorical features and the target is a discrete variable (which is typical for decision tree regression). at the same time, trees can be overfit easily, which can cause a huge loss in robustness and very inaccurate predictions on unseen data. ensembles will help to resolve this, but the problem of overfitting won't be gone completely. also, decision trees don't work well once something completely unseen shows up in input data, which might be a problem during future usage\n",
    "\n",
    "- **auto-regressive models**:\n",
    "\n",
    "  a time-series specific solution, that's supposed to do a good job at predicting future sales based on historical data. the main problems are the following: 1. I don't have any experience working with them (but we'll still try I guess) 2. the data is still quite noisy, so using AR models will require some additional preprocessing\n",
    "\n",
    "- **RNNs**:\n",
    "\n",
    "  one of the hardest models to implement, but at the same time a really powerfull (in theory) solution, that by definition fits the task idea quite well. RNNs can be really good when it comes to analyzing consecitive data (like text processing or time series)\n"
   ]
  },
  {
   "cell_type": "markdown",
   "metadata": {},
   "source": [
    "useful additional features:\n",
    "\n",
    "- day of the week\n",
    "- month\n",
    "- year\n",
    "- lagged values (look them up in `EDA`)\n",
    "- ...\n"
   ]
  },
  {
   "cell_type": "markdown",
   "metadata": {},
   "source": [
    "## Loading and preparing the data\n",
    "\n",
    "the point is to load the data in a format that's actually going to be fed to the model\n"
   ]
  },
  {
   "cell_type": "code",
   "execution_count": 1,
   "metadata": {},
   "outputs": [],
   "source": [
    "from sys import path\n",
    "path.append('../')\n"
   ]
  },
  {
   "cell_type": "code",
   "execution_count": 2,
   "metadata": {},
   "outputs": [],
   "source": [
    "from src.utils import FoldLoader\n",
    "from src.transform import ETL\n",
    "from sklearn.ensemble import RandomForestRegressor\n",
    "from tqdm.notebook import tqdm\n",
    "from sklearn.metrics import mean_squared_error\n",
    "from sklearn.metrics import r2_score\n",
    "from matplotlib import pyplot as plt\n",
    "import os\n",
    "import xgboost\n",
    "import seaborn as sns\n",
    "import catboost as cb\n",
    "import numpy as np\n",
    "import pandas as pd\n",
    "import re\n",
    "from math import sin, cos, pi\n",
    "from warnings import filterwarnings\n",
    "filterwarnings('ignore', category=FutureWarning)\n",
    "\n"
   ]
  },
  {
   "cell_type": "code",
   "execution_count": 3,
   "metadata": {},
   "outputs": [],
   "source": [
    "DATA_DIR = '../data/competitive-data-science-predict-future-sales/'"
   ]
  },
  {
   "cell_type": "code",
   "execution_count": 4,
   "metadata": {},
   "outputs": [],
   "source": [
    "# TODO try to train model on ungrouped data\n",
    "# the idea comes from the fact that the amount of samples in the test\n",
    "# set (which is supposed to be one month long) is much greater\n",
    "# than the amount of samples per month in grouped train"
   ]
  },
  {
   "cell_type": "code",
   "execution_count": 5,
   "metadata": {},
   "outputs": [],
   "source": [
    "def etl_process():\n",
    "    pipeline = ETL(DATA_DIR, ['sales_train.csv',\n",
    "                   'items', 'shops', 'item_categories'])\n",
    "    pipeline.extract()\n",
    "    pipeline.tarnsform()\n",
    "    pipeline.load(os.path.join(DATA_DIR, 'processed_files/'))"
   ]
  },
  {
   "cell_type": "code",
   "execution_count": 6,
   "metadata": {},
   "outputs": [],
   "source": [
    "# uncomment if data reloading is needed (made this specifically after switching\n",
    "# the working device since the data dir is not on github)\n",
    "# etl_process()"
   ]
  },
  {
   "cell_type": "code",
   "execution_count": 7,
   "metadata": {},
   "outputs": [],
   "source": [
    "data = pd.read_csv(os.path.join(\n",
    "    DATA_DIR, 'processed_files/processed_data.csv'))\n",
    "categories = pd.read_csv(os.path.join(DATA_DIR, 'item_categories.csv'))\n",
    "items = pd.read_csv(os.path.join(DATA_DIR, 'items.csv'))\n",
    "\n",
    "item_cats = items.merge(categories, how='inner', on='item_category_id')\n",
    "test = pd.read_csv(os.path.join(DATA_DIR, 'test.csv'))\n",
    "test['date_block_num'] = 34"
   ]
  },
  {
   "cell_type": "code",
   "execution_count": 8,
   "metadata": {},
   "outputs": [
    {
     "name": "stdout",
     "output_type": "stream",
     "text": [
      "1330200\n",
      "214200\n"
     ]
    }
   ],
   "source": [
    "# checked if maybe the higher amount of samples is due to the test\n",
    "# set being a product of shops and items. it's not. \n",
    "shops = pd.read_csv(os.path.join(DATA_DIR, 'shops.csv'))\n",
    "items = pd.read_csv(os.path.join(DATA_DIR, 'items.csv'))\n",
    "print(shops.shape[0]*items.shape[0])\n",
    "print(test.shape[0])"
   ]
  },
  {
   "cell_type": "code",
   "execution_count": 9,
   "metadata": {},
   "outputs": [],
   "source": [
    "columns_to_drop = ['date', 'item_name', 'shop_name']\n",
    "data = data.drop(columns=columns_to_drop)"
   ]
  },
  {
   "cell_type": "code",
   "execution_count": 10,
   "metadata": {},
   "outputs": [],
   "source": [
    "agg_cols = ['date_block_num', 'shop_id', 'item_id', 'item_category_name']"
   ]
  },
  {
   "cell_type": "code",
   "execution_count": 11,
   "metadata": {},
   "outputs": [],
   "source": [
    "grouped = data.groupby(agg_cols, as_index=False).sum()\n",
    "grouped_test = test.groupby(agg_cols[:-1], as_index=False).sum()"
   ]
  },
  {
   "cell_type": "markdown",
   "metadata": {},
   "source": [
    "## Feature extraction\n"
   ]
  },
  {
   "cell_type": "code",
   "execution_count": 12,
   "metadata": {},
   "outputs": [],
   "source": [
    "def extract_features(data: pd.DataFrame,\n",
    "                     from_cols: list[str],\n",
    "                     to_cols: list[str],\n",
    "                     using: list[callable]):\n",
    "    # TODO this probably needs to be documented since it's intended for further use\n",
    "    # weird idea but should work\n",
    "    # doesn't work for more complex features but we won't use those i suppose\n",
    "    _data = data.copy()\n",
    "    if not (len(from_cols) == len(to_cols) == len(using)):\n",
    "        raise ValueError('list sizes have to match')\n",
    "    for f, t, u in zip(from_cols, to_cols, using):\n",
    "        _data[t] = _data[f].apply(u)\n",
    "    return _data"
   ]
  },
  {
   "cell_type": "code",
   "execution_count": 13,
   "metadata": {},
   "outputs": [],
   "source": [
    "new_features = [\n",
    "    'month_sin',\n",
    "    'month_cos',\n",
    "    'item_cat',\n",
    "    'general_cat'\n",
    "]\n",
    "sources = [\n",
    "    'date_block_num',\n",
    "    'date_block_num',\n",
    "    'item_id',\n",
    "    'item_id'\n",
    "]\n",
    "\n",
    "lookup = {}\n",
    "\n",
    "\n",
    "def month_wrapper(func: callable):\n",
    "    def ex_month(x):\n",
    "        month = x % 12 + 1\n",
    "        return func(2*pi*month/12)\n",
    "    return ex_month\n",
    "\n",
    "\n",
    "def fetch_cat(id):\n",
    "    if id not in lookup:\n",
    "        lookup[id] = item_cats[item_cats['item_id'] == id]\\\n",
    "            ['item_category_name'].unique()[0]\n",
    "    return lookup[id]\n",
    "\n",
    "\n",
    "def gen_cat(id):\n",
    "    cat = fetch_cat(id)\n",
    "    return 'Игры' if cat.startswith('Игры') \\\n",
    "        else re.split(r'\\s*-\\s*', cat)[0]\n",
    "\n",
    "\n",
    "extractors = [\n",
    "    month_wrapper(sin),\n",
    "    month_wrapper(cos),\n",
    "    fetch_cat,\n",
    "    gen_cat\n",
    "]\n",
    "\n",
    "grouped = extract_features(grouped, sources, new_features, extractors)\n",
    "grouped_test = extract_features(grouped_test, sources, new_features, extractors)"
   ]
  },
  {
   "cell_type": "code",
   "execution_count": 14,
   "metadata": {},
   "outputs": [
    {
     "data": {
      "text/html": [
       "<div>\n",
       "<style scoped>\n",
       "    .dataframe tbody tr th:only-of-type {\n",
       "        vertical-align: middle;\n",
       "    }\n",
       "\n",
       "    .dataframe tbody tr th {\n",
       "        vertical-align: top;\n",
       "    }\n",
       "\n",
       "    .dataframe thead th {\n",
       "        text-align: right;\n",
       "    }\n",
       "</style>\n",
       "<table border=\"1\" class=\"dataframe\">\n",
       "  <thead>\n",
       "    <tr style=\"text-align: right;\">\n",
       "      <th></th>\n",
       "      <th>date_block_num</th>\n",
       "      <th>shop_id</th>\n",
       "      <th>item_id</th>\n",
       "      <th>item_category_name</th>\n",
       "      <th>item_price</th>\n",
       "      <th>item_cnt_day</th>\n",
       "      <th>item_category_id</th>\n",
       "      <th>month_sin</th>\n",
       "      <th>month_cos</th>\n",
       "      <th>item_cat</th>\n",
       "      <th>general_cat</th>\n",
       "    </tr>\n",
       "  </thead>\n",
       "  <tbody>\n",
       "    <tr>\n",
       "      <th>0</th>\n",
       "      <td>0</td>\n",
       "      <td>2</td>\n",
       "      <td>27</td>\n",
       "      <td>Игры - PS3</td>\n",
       "      <td>2499.0</td>\n",
       "      <td>1</td>\n",
       "      <td>19</td>\n",
       "      <td>0.5</td>\n",
       "      <td>0.866025</td>\n",
       "      <td>Игры - PS3</td>\n",
       "      <td>Игры</td>\n",
       "    </tr>\n",
       "    <tr>\n",
       "      <th>1</th>\n",
       "      <td>0</td>\n",
       "      <td>2</td>\n",
       "      <td>33</td>\n",
       "      <td>Кино - Blu-Ray</td>\n",
       "      <td>499.0</td>\n",
       "      <td>1</td>\n",
       "      <td>37</td>\n",
       "      <td>0.5</td>\n",
       "      <td>0.866025</td>\n",
       "      <td>Кино - Blu-Ray</td>\n",
       "      <td>Кино</td>\n",
       "    </tr>\n",
       "    <tr>\n",
       "      <th>2</th>\n",
       "      <td>0</td>\n",
       "      <td>2</td>\n",
       "      <td>317</td>\n",
       "      <td>Книги - Аудиокниги 1С</td>\n",
       "      <td>299.0</td>\n",
       "      <td>1</td>\n",
       "      <td>45</td>\n",
       "      <td>0.5</td>\n",
       "      <td>0.866025</td>\n",
       "      <td>Книги - Аудиокниги 1С</td>\n",
       "      <td>Книги</td>\n",
       "    </tr>\n",
       "    <tr>\n",
       "      <th>3</th>\n",
       "      <td>0</td>\n",
       "      <td>2</td>\n",
       "      <td>438</td>\n",
       "      <td>Книги - Аудиокниги 1С</td>\n",
       "      <td>299.0</td>\n",
       "      <td>1</td>\n",
       "      <td>45</td>\n",
       "      <td>0.5</td>\n",
       "      <td>0.866025</td>\n",
       "      <td>Книги - Аудиокниги 1С</td>\n",
       "      <td>Книги</td>\n",
       "    </tr>\n",
       "    <tr>\n",
       "      <th>4</th>\n",
       "      <td>0</td>\n",
       "      <td>2</td>\n",
       "      <td>471</td>\n",
       "      <td>Книги - Методические материалы 1С</td>\n",
       "      <td>798.0</td>\n",
       "      <td>2</td>\n",
       "      <td>98</td>\n",
       "      <td>0.5</td>\n",
       "      <td>0.866025</td>\n",
       "      <td>Книги - Методические материалы 1С</td>\n",
       "      <td>Книги</td>\n",
       "    </tr>\n",
       "    <tr>\n",
       "      <th>5</th>\n",
       "      <td>0</td>\n",
       "      <td>2</td>\n",
       "      <td>481</td>\n",
       "      <td>Книги - Методические материалы 1С</td>\n",
       "      <td>330.0</td>\n",
       "      <td>1</td>\n",
       "      <td>49</td>\n",
       "      <td>0.5</td>\n",
       "      <td>0.866025</td>\n",
       "      <td>Книги - Методические материалы 1С</td>\n",
       "      <td>Книги</td>\n",
       "    </tr>\n",
       "    <tr>\n",
       "      <th>6</th>\n",
       "      <td>0</td>\n",
       "      <td>2</td>\n",
       "      <td>482</td>\n",
       "      <td>Программы - 1С:Предприятие 8</td>\n",
       "      <td>3300.0</td>\n",
       "      <td>1</td>\n",
       "      <td>73</td>\n",
       "      <td>0.5</td>\n",
       "      <td>0.866025</td>\n",
       "      <td>Программы - 1С:Предприятие 8</td>\n",
       "      <td>Программы</td>\n",
       "    </tr>\n",
       "    <tr>\n",
       "      <th>7</th>\n",
       "      <td>0</td>\n",
       "      <td>2</td>\n",
       "      <td>484</td>\n",
       "      <td>Программы - 1С:Предприятие 8</td>\n",
       "      <td>600.0</td>\n",
       "      <td>2</td>\n",
       "      <td>146</td>\n",
       "      <td>0.5</td>\n",
       "      <td>0.866025</td>\n",
       "      <td>Программы - 1С:Предприятие 8</td>\n",
       "      <td>Программы</td>\n",
       "    </tr>\n",
       "    <tr>\n",
       "      <th>8</th>\n",
       "      <td>0</td>\n",
       "      <td>2</td>\n",
       "      <td>491</td>\n",
       "      <td>Программы - 1С:Предприятие 8</td>\n",
       "      <td>600.0</td>\n",
       "      <td>1</td>\n",
       "      <td>73</td>\n",
       "      <td>0.5</td>\n",
       "      <td>0.866025</td>\n",
       "      <td>Программы - 1С:Предприятие 8</td>\n",
       "      <td>Программы</td>\n",
       "    </tr>\n",
       "    <tr>\n",
       "      <th>9</th>\n",
       "      <td>0</td>\n",
       "      <td>2</td>\n",
       "      <td>534</td>\n",
       "      <td>Программы - Обучающие</td>\n",
       "      <td>798.0</td>\n",
       "      <td>2</td>\n",
       "      <td>154</td>\n",
       "      <td>0.5</td>\n",
       "      <td>0.866025</td>\n",
       "      <td>Программы - Обучающие</td>\n",
       "      <td>Программы</td>\n",
       "    </tr>\n",
       "  </tbody>\n",
       "</table>\n",
       "</div>"
      ],
      "text/plain": [
       "   date_block_num  shop_id  item_id                 item_category_name  \\\n",
       "0               0        2       27                         Игры - PS3   \n",
       "1               0        2       33                     Кино - Blu-Ray   \n",
       "2               0        2      317              Книги - Аудиокниги 1С   \n",
       "3               0        2      438              Книги - Аудиокниги 1С   \n",
       "4               0        2      471  Книги - Методические материалы 1С   \n",
       "5               0        2      481  Книги - Методические материалы 1С   \n",
       "6               0        2      482       Программы - 1С:Предприятие 8   \n",
       "7               0        2      484       Программы - 1С:Предприятие 8   \n",
       "8               0        2      491       Программы - 1С:Предприятие 8   \n",
       "9               0        2      534              Программы - Обучающие   \n",
       "\n",
       "   item_price  item_cnt_day  item_category_id  month_sin  month_cos  \\\n",
       "0      2499.0             1                19        0.5   0.866025   \n",
       "1       499.0             1                37        0.5   0.866025   \n",
       "2       299.0             1                45        0.5   0.866025   \n",
       "3       299.0             1                45        0.5   0.866025   \n",
       "4       798.0             2                98        0.5   0.866025   \n",
       "5       330.0             1                49        0.5   0.866025   \n",
       "6      3300.0             1                73        0.5   0.866025   \n",
       "7       600.0             2               146        0.5   0.866025   \n",
       "8       600.0             1                73        0.5   0.866025   \n",
       "9       798.0             2               154        0.5   0.866025   \n",
       "\n",
       "                            item_cat general_cat  \n",
       "0                         Игры - PS3        Игры  \n",
       "1                     Кино - Blu-Ray        Кино  \n",
       "2              Книги - Аудиокниги 1С       Книги  \n",
       "3              Книги - Аудиокниги 1С       Книги  \n",
       "4  Книги - Методические материалы 1С       Книги  \n",
       "5  Книги - Методические материалы 1С       Книги  \n",
       "6       Программы - 1С:Предприятие 8   Программы  \n",
       "7       Программы - 1С:Предприятие 8   Программы  \n",
       "8       Программы - 1С:Предприятие 8   Программы  \n",
       "9              Программы - Обучающие   Программы  "
      ]
     },
     "execution_count": 14,
     "metadata": {},
     "output_type": "execute_result"
    }
   ],
   "source": [
    "grouped.head(10)"
   ]
  },
  {
   "cell_type": "markdown",
   "metadata": {},
   "source": [
    "## Catboost\n"
   ]
  },
  {
   "cell_type": "code",
   "execution_count": 15,
   "metadata": {},
   "outputs": [],
   "source": [
    "in_features = ['shop_id', 'item_id', 'item_cat',\n",
    "               'month_sin', 'month_cos', 'general_cat']\n",
    "target = 'item_cnt_day'\n",
    "cat_cols = ['shop_id', 'item_id', 'item_cat', 'general_cat']"
   ]
  },
  {
   "cell_type": "code",
   "execution_count": 10,
   "metadata": {},
   "outputs": [],
   "source": [
    "def train_model(model, \n",
    "                train: pd.DataFrame, \n",
    "                cat_cols: list[str], \n",
    "                in_features: list[str], \n",
    "                target: str, \n",
    "                lower: int = 0, \n",
    "                upper: int = 33) -> list:\n",
    "    # TODO needs to be documented too, but it's too early \n",
    "    mask_1 = train['date_block_num'] < upper\n",
    "    mask_2 = train['date_block_num'] >= lower\n",
    "    train_data = cb.Pool(train[mask_1 & mask_2][in_features],\n",
    "                         train[mask_1 & mask_2][target],\n",
    "                         cat_features=cat_cols)\n",
    "    val_data = cb.Pool(train[train['date_block_num'] >= upper][in_features],\n",
    "                       train[train['date_block_num'] >= upper][target],\n",
    "                       cat_features=cat_cols)\n",
    "\n",
    "    model.fit(train_data, eval_set=val_data, use_best_model=True,\n",
    "              verbose=True, early_stopping_rounds=50)\n",
    "    return model"
   ]
  },
  {
   "cell_type": "code",
   "execution_count": 17,
   "metadata": {},
   "outputs": [
    {
     "name": "stdout",
     "output_type": "stream",
     "text": [
      "Learning rate set to 0.161567\n",
      "0:\tlearn: 3.6375565\ttest: 3.1245280\tbest: 3.1245280 (0)\ttotal: 582ms\tremaining: 9m 41s\n",
      "1:\tlearn: 3.4700040\ttest: 2.9486609\tbest: 2.9486609 (1)\ttotal: 930ms\tremaining: 7m 44s\n",
      "2:\tlearn: 3.3436464\ttest: 2.8166641\tbest: 2.8166641 (2)\ttotal: 1.06s\tremaining: 5m 54s\n",
      "3:\tlearn: 3.2464819\ttest: 2.7364753\tbest: 2.7364753 (3)\ttotal: 1.2s\tremaining: 4m 59s\n",
      "4:\tlearn: 3.1724607\ttest: 2.6864435\tbest: 2.6864435 (4)\ttotal: 1.53s\tremaining: 5m 4s\n",
      "5:\tlearn: 3.1171678\ttest: 2.6706460\tbest: 2.6706460 (5)\ttotal: 1.7s\tremaining: 4m 41s\n",
      "6:\tlearn: 3.0758721\ttest: 2.6582564\tbest: 2.6582564 (6)\ttotal: 1.97s\tremaining: 4m 40s\n",
      "7:\tlearn: 3.0410740\ttest: 2.6595287\tbest: 2.6582564 (6)\ttotal: 2.29s\tremaining: 4m 44s\n",
      "8:\tlearn: 3.0135502\ttest: 2.6678255\tbest: 2.6582564 (6)\ttotal: 2.58s\tremaining: 4m 44s\n",
      "9:\tlearn: 2.9929568\ttest: 2.6718375\tbest: 2.6582564 (6)\ttotal: 2.75s\tremaining: 4m 32s\n",
      "10:\tlearn: 2.9754055\ttest: 2.6794369\tbest: 2.6582564 (6)\ttotal: 2.88s\tremaining: 4m 19s\n",
      "11:\tlearn: 2.9566719\ttest: 2.7030898\tbest: 2.6582564 (6)\ttotal: 3.09s\tremaining: 4m 14s\n",
      "12:\tlearn: 2.9442031\ttest: 2.7121978\tbest: 2.6582564 (6)\ttotal: 3.21s\tremaining: 4m 3s\n",
      "13:\tlearn: 2.9349261\ttest: 2.7233355\tbest: 2.6582564 (6)\ttotal: 3.35s\tremaining: 3m 55s\n",
      "14:\tlearn: 2.9277049\ttest: 2.7320658\tbest: 2.6582564 (6)\ttotal: 3.49s\tremaining: 3m 49s\n",
      "15:\tlearn: 2.9214954\ttest: 2.7443301\tbest: 2.6582564 (6)\ttotal: 3.64s\tremaining: 3m 43s\n",
      "16:\tlearn: 2.9146107\ttest: 2.7485028\tbest: 2.6582564 (6)\ttotal: 3.79s\tremaining: 3m 39s\n",
      "17:\tlearn: 2.9042743\ttest: 2.7643139\tbest: 2.6582564 (6)\ttotal: 4.14s\tremaining: 3m 46s\n",
      "18:\tlearn: 2.8948886\ttest: 2.7744161\tbest: 2.6582564 (6)\ttotal: 4.41s\tremaining: 3m 47s\n",
      "19:\tlearn: 2.8873963\ttest: 2.7839897\tbest: 2.6582564 (6)\ttotal: 4.57s\tremaining: 3m 43s\n",
      "20:\tlearn: 2.8805750\ttest: 2.7949469\tbest: 2.6582564 (6)\ttotal: 4.84s\tremaining: 3m 45s\n",
      "21:\tlearn: 2.8765298\ttest: 2.8082632\tbest: 2.6582564 (6)\ttotal: 4.99s\tremaining: 3m 41s\n",
      "22:\tlearn: 2.8707127\ttest: 2.8107466\tbest: 2.6582564 (6)\ttotal: 5.25s\tremaining: 3m 43s\n",
      "23:\tlearn: 2.8671125\ttest: 2.8104966\tbest: 2.6582564 (6)\ttotal: 5.46s\tremaining: 3m 42s\n",
      "24:\tlearn: 2.8617011\ttest: 2.8312363\tbest: 2.6582564 (6)\ttotal: 5.61s\tremaining: 3m 38s\n",
      "25:\tlearn: 2.8560033\ttest: 2.8486881\tbest: 2.6582564 (6)\ttotal: 5.92s\tremaining: 3m 41s\n",
      "26:\tlearn: 2.8532569\ttest: 2.8543471\tbest: 2.6582564 (6)\ttotal: 6.07s\tremaining: 3m 38s\n",
      "27:\tlearn: 2.8510144\ttest: 2.8557729\tbest: 2.6582564 (6)\ttotal: 6.2s\tremaining: 3m 35s\n",
      "28:\tlearn: 2.8461885\ttest: 2.8713191\tbest: 2.6582564 (6)\ttotal: 6.5s\tremaining: 3m 37s\n",
      "29:\tlearn: 2.8433970\ttest: 2.8715077\tbest: 2.6582564 (6)\ttotal: 6.63s\tremaining: 3m 34s\n",
      "30:\tlearn: 2.8404716\ttest: 2.8723034\tbest: 2.6582564 (6)\ttotal: 6.78s\tremaining: 3m 31s\n",
      "31:\tlearn: 2.8372487\ttest: 2.8765160\tbest: 2.6582564 (6)\ttotal: 7.06s\tremaining: 3m 33s\n",
      "32:\tlearn: 2.8343271\ttest: 2.8737956\tbest: 2.6582564 (6)\ttotal: 7.25s\tremaining: 3m 32s\n",
      "33:\tlearn: 2.8326509\ttest: 2.8714135\tbest: 2.6582564 (6)\ttotal: 7.37s\tremaining: 3m 29s\n",
      "34:\tlearn: 2.8295352\ttest: 2.8692271\tbest: 2.6582564 (6)\ttotal: 7.52s\tremaining: 3m 27s\n",
      "35:\tlearn: 2.8271851\ttest: 2.8631240\tbest: 2.6582564 (6)\ttotal: 7.67s\tremaining: 3m 25s\n",
      "36:\tlearn: 2.8257613\ttest: 2.8649144\tbest: 2.6582564 (6)\ttotal: 7.81s\tremaining: 3m 23s\n",
      "37:\tlearn: 2.8219650\ttest: 2.8632069\tbest: 2.6582564 (6)\ttotal: 8.09s\tremaining: 3m 24s\n",
      "38:\tlearn: 2.8196519\ttest: 2.8673535\tbest: 2.6582564 (6)\ttotal: 8.38s\tremaining: 3m 26s\n",
      "39:\tlearn: 2.8175036\ttest: 2.8643201\tbest: 2.6582564 (6)\ttotal: 8.51s\tremaining: 3m 24s\n",
      "40:\tlearn: 2.8156888\ttest: 2.8631089\tbest: 2.6582564 (6)\ttotal: 8.63s\tremaining: 3m 21s\n",
      "41:\tlearn: 2.8142650\ttest: 2.8636337\tbest: 2.6582564 (6)\ttotal: 8.76s\tremaining: 3m 19s\n",
      "42:\tlearn: 2.8130437\ttest: 2.8633713\tbest: 2.6582564 (6)\ttotal: 8.9s\tremaining: 3m 18s\n",
      "43:\tlearn: 2.8100868\ttest: 2.8641739\tbest: 2.6582564 (6)\ttotal: 9.04s\tremaining: 3m 16s\n",
      "44:\tlearn: 2.8074893\ttest: 2.8653410\tbest: 2.6582564 (6)\ttotal: 9.18s\tremaining: 3m 14s\n",
      "45:\tlearn: 2.8047688\ttest: 2.8635675\tbest: 2.6582564 (6)\ttotal: 9.31s\tremaining: 3m 13s\n",
      "46:\tlearn: 2.8018038\ttest: 2.8639905\tbest: 2.6582564 (6)\ttotal: 9.46s\tremaining: 3m 11s\n",
      "47:\tlearn: 2.8006632\ttest: 2.8638799\tbest: 2.6582564 (6)\ttotal: 9.59s\tremaining: 3m 10s\n",
      "48:\tlearn: 2.7977744\ttest: 2.8791445\tbest: 2.6582564 (6)\ttotal: 9.75s\tremaining: 3m 9s\n",
      "49:\tlearn: 2.7966776\ttest: 2.8788809\tbest: 2.6582564 (6)\ttotal: 9.88s\tremaining: 3m 7s\n",
      "50:\tlearn: 2.7934728\ttest: 2.8920830\tbest: 2.6582564 (6)\ttotal: 10s\tremaining: 3m 6s\n",
      "51:\tlearn: 2.7914712\ttest: 2.8901703\tbest: 2.6582564 (6)\ttotal: 10.2s\tremaining: 3m 6s\n",
      "52:\tlearn: 2.7888283\ttest: 2.8930920\tbest: 2.6582564 (6)\ttotal: 10.5s\tremaining: 3m 7s\n",
      "53:\tlearn: 2.7865803\ttest: 2.8999065\tbest: 2.6582564 (6)\ttotal: 10.7s\tremaining: 3m 7s\n",
      "54:\tlearn: 2.7851003\ttest: 2.9094151\tbest: 2.6582564 (6)\ttotal: 10.9s\tremaining: 3m 6s\n",
      "55:\tlearn: 2.7830694\ttest: 2.9105736\tbest: 2.6582564 (6)\ttotal: 11s\tremaining: 3m 5s\n",
      "56:\tlearn: 2.7807566\ttest: 2.9096168\tbest: 2.6582564 (6)\ttotal: 11.2s\tremaining: 3m 4s\n",
      "Stopped by overfitting detector  (50 iterations wait)\n",
      "\n",
      "bestTest = 2.658256429\n",
      "bestIteration = 6\n",
      "\n",
      "Shrink model to first 7 iterations.\n"
     ]
    }
   ],
   "source": [
    "model = cb.CatBoostRegressor(cat_features=cat_cols, random_seed=42)\n",
    "catboost_model = train_model(model, \n",
    "    grouped, cat_cols, in_features, target, lower=0, upper=33)"
   ]
  },
  {
   "cell_type": "code",
   "execution_count": 18,
   "metadata": {},
   "outputs": [],
   "source": [
    "def create_submission(model, test_df: pd.DataFrame,  in_features: list[str], filename: str, round=False):\n",
    "    predicts = model.predict(test_df[in_features])\n",
    "    if round:\n",
    "        predicts = [int(x) for x in predicts]\n",
    "    submission = pd.DataFrame(\n",
    "        {'ID': range(len(predicts)), 'item_cnt_month': predicts})\n",
    "    filename_ = os.path.join(DATA_DIR, filename)\n",
    "    submission.to_csv(filename_, index=False)\n",
    "    return predicts"
   ]
  },
  {
   "cell_type": "code",
   "execution_count": 19,
   "metadata": {},
   "outputs": [],
   "source": [
    "predictions = create_submission(catboost_model, grouped_test, in_features, 'usual_subm.csv', round=True)"
   ]
  },
  {
   "cell_type": "code",
   "execution_count": 32,
   "metadata": {},
   "outputs": [],
   "source": [
    "loader = FoldLoader(grouped, 12, n_valid_folds=2, folding_mode='stack')"
   ]
  },
  {
   "cell_type": "code",
   "execution_count": 40,
   "metadata": {},
   "outputs": [
    {
     "data": {
      "application/vnd.jupyter.widget-view+json": {
       "model_id": "d12c27c30fdc485fb970840745c38f04",
       "version_major": 2,
       "version_minor": 0
      },
      "text/plain": [
       "  0%|          | 0/21 [00:00<?, ?it/s]"
      ]
     },
     "metadata": {},
     "output_type": "display_data"
    },
    {
     "name": "stdout",
     "output_type": "stream",
     "text": [
      "fold: [ 1 out of 21]\tRMSE-train: [2.937]\tRMSE-val: [2.868]\n",
      "fold: [ 2 out of 21]\tRMSE-train: [3.431]\tRMSE-val: [3.392]\n",
      "fold: [ 3 out of 21]\tRMSE-train: [2.842]\tRMSE-val: [3.277]\n",
      "fold: [ 4 out of 21]\tRMSE-train: [3.050]\tRMSE-val: [2.909]\n",
      "fold: [ 5 out of 21]\tRMSE-train: [2.999]\tRMSE-val: [2.761]\n",
      "fold: [ 6 out of 21]\tRMSE-train: [2.978]\tRMSE-val: [2.622]\n",
      "fold: [ 7 out of 21]\tRMSE-train: [2.945]\tRMSE-val: [2.758]\n",
      "fold: [ 8 out of 21]\tRMSE-train: [2.880]\tRMSE-val: [3.378]\n"
     ]
    }
   ],
   "source": [
    "template = 'fold: [{:2} out of {:2}]\\tRMSE-train: [{:3.3f}]\\tRMSE-val: [{:3.3f}]'\n",
    "index = 1\n",
    "history = {'loss': [], 'score': []}\n",
    "loader.reset_folds()\n",
    "model = cb.CatBoostRegressor(cat_features=cat_cols, random_seed=67)\n",
    "for train, val in tqdm(loader):\n",
    "    # fetch data\n",
    "    train_data = cb.Pool(train[in_features],\n",
    "                         train[target], cat_features=cat_cols)\n",
    "    val_data = cb.Pool(val[in_features], val[target], cat_features=cat_cols)\n",
    "    # reset the model\n",
    "    model.fit(train_data, eval_set=val_data, use_best_model=True, verbose=False, early_stopping_rounds=50)\n",
    "\n",
    "    # validate\n",
    "    preds = model.predict(train[in_features])\n",
    "    rmse_train = (np.sqrt(mean_squared_error(train[target], preds)))\n",
    "    preds = model.predict(val[in_features])\n",
    "    rmse_val = (np.sqrt(mean_squared_error(val[target], preds)))\n",
    "    print(template.format(index, len(loader), rmse_train, rmse_val))\n",
    "    index += 1\n",
    "    "
   ]
  },
  {
   "cell_type": "code",
   "execution_count": null,
   "metadata": {},
   "outputs": [],
   "source": [
    "create_submission(model, test, in_features, 'stack_trained_subm.csv', round=True)"
   ]
  },
  {
   "attachments": {
    "image.png": {
     "image/png": "[encoded data removed]"
    }
   },
   "cell_type": "markdown",
   "metadata": {},
   "source": [
    "### CatBoost conclusion\n",
    "\n",
    "So, the results are explainable, scores on validation and testing are approx. the same\n",
    "The scores themselves aren't that good and I'm not sure what I can do about it.\n",
    "Currently it seems like no matter what I do, the model starts overfitting after \n",
    "reaching the score of approx `2.65`, which doesn't seem that good\n",
    "\n",
    "Right now the plan is to try different types of model and see if they will have\n",
    "any similar issues\n",
    "\n",
    "currenty the score situation is as follows:\n",
    "\n",
    "![image.png](attachment:image.png)"
   ]
  },
  {
   "cell_type": "markdown",
   "metadata": {},
   "source": [
    "## XGBoost"
   ]
  },
  {
   "cell_type": "markdown",
   "metadata": {},
   "source": [
    "## RandomForest\n",
    "\n",
    "this one requires manually encoding some features, since it can't process categorical features out-of-the-box. again, planning to see the scores I get and compare to others\n"
   ]
  },
  {
   "cell_type": "code",
   "execution_count": null,
   "metadata": {},
   "outputs": [],
   "source": []
  },
  {
   "cell_type": "markdown",
   "metadata": {},
   "source": [
    "## RNN\n",
    "\n",
    "requires encoding cat. features too.\n"
   ]
  }
 ],
 "metadata": {
  "kernelspec": {
   "display_name": "venv",
   "language": "python",
   "name": "python3"
  },
  "language_info": {
   "codemirror_mode": {
    "name": "ipython",
    "version": 3
   },
   "file_extension": ".py",
   "mimetype": "text/x-python",
   "name": "python",
   "nbconvert_exporter": "python",
   "pygments_lexer": "ipython3",
   "version": "3.11.8"
  }
 },
 "nbformat": 4,
 "nbformat_minor": 2
}

{
 "cells": [
  {
   "cell_type": "markdown",
   "metadata": {},
   "source": [
    "## Raw ideas"
   ]
  },
  {
   "cell_type": "markdown",
   "metadata": {},
   "source": [
    "so here's a few quick ideas for a validation schema:\n",
    "\n",
    "- data shouldn't be shuffled before training, cause it's essential to have the time series values in consecutive order\n",
    "- currently I came up with three ideas for a schema:\n",
    "    1. `1,2train+3valid` -> `1,2,3train+4valid` -> `1,2,3,4train+5valid` etc.\n",
    "\n",
    "        **Advatages**:\n",
    "        - the train set grows, probably helping to test model's robustness\n",
    "        - we always validate on different parts of the training set\n",
    "\n",
    "        **Disadvantages**:\n",
    "        - computationally heavy. at some point our train will contain almost the entire dataset\n",
    "    2. `1,2train+3valid` -> `2,3train+4valid` -> `3,4train+5valid`\n",
    "\n",
    "        **Advantages**:\n",
    "        - fixed train size, no computational power issues\n",
    "        - we can somewhat efficiently use our dataset since we use each fold several times during different trainig sessions\n",
    "        \n",
    "        **Disadvantages**:\n",
    "        - the fact that different sets overlap might be a problem (shouldn't be, but who knows)\n",
    "    3.  `1,2train+3valid` -> `4,5train+6valid` -> `7,8train+9valid`\n",
    "\n",
    "        **Advantages**:\n",
    "        - the easiest one to implement, goes through each fold once only\n",
    "        - it's guaranteed that there's no overlapping or data leaks\n",
    "        \n",
    "        **Disadvantages**:\n",
    "        - data hugry in some sense, each fold is used only ones and each trainig session takes $f_{train} + 1$ folds, where $f_{train}$ is the amount of folds for the trainig set. this might be a problem assuming we have only 33 folds at maximum"
   ]
  },
  {
   "cell_type": "markdown",
   "metadata": {},
   "source": [
    "model ideas:\n",
    "\n",
    "- **decision tree-based algorithms (boosting, random forest)**:\n",
    "\n",
    "    seems to be a good choice for the task since we have a lot of categorical features and the target is a discrete variable (which is typical for decision tree regression). at the same time, trees can be overfit easily, which can cause a huge loss in robustness and very inaccurate predictions on unseen data. ensembles will help to resolve this, but the problem of overfitting won't be gone completely. also, decision trees don't work well once something completely unseen shows up in input data, which might be a problem during future usage\n",
    "- **auto-regressive models**:\n",
    "\n",
    "    a time-series specific solution, that's supposed to do a good job at predicting future sales based on historical data. the main problems are the following: \n",
    "        1. I don't have any experience working with them (but we'll still try I guess)\n",
    "        2. the data is still quite noisy, so using AR models will require some additional preprocessing \n",
    "- **RNNs**:\n",
    "\n",
    "    one of the hardest models to implement, but at the same time a really powerfull (in theory) solution, that by definition fits the task idea quite well. RNNs can be really good when it comes to analyzing consecitive data (like text processing or time series) \n"
   ]
  },
  {
   "cell_type": "markdown",
   "metadata": {},
   "source": [
    "useful additional features:\n",
    "\n",
    "- day of the week\n",
    "- month\n",
    "- year\n",
    "- lagged values (look them up in `EDA`)\n",
    "- ...\n"
   ]
  },
  {
   "cell_type": "code",
   "execution_count": 2,
   "metadata": {},
   "outputs": [],
   "source": [
    "import pandas as pd\n",
    "from catboost import CatBoostRegressor\n",
    "from sklearn.ensemble import RandomForestRegressor"
   ]
  },
  {
   "cell_type": "code",
   "execution_count": 3,
   "metadata": {},
   "outputs": [],
   "source": [
    "data = pd.read_csv('../data/processed_files/processed_data.csv')\n",
    "data['date'] = pd.to_datetime(data['date'])"
   ]
  },
  {
   "cell_type": "code",
   "execution_count": 6,
   "metadata": {},
   "outputs": [
    {
     "data": {
      "text/plain": [
       "33"
      ]
     },
     "execution_count": 6,
     "metadata": {},
     "output_type": "execute_result"
    }
   ],
   "source": [
    "data['date_block_num'].unique()"
   ]
  },
  {
   "cell_type": "code",
   "execution_count": 23,
   "metadata": {},
   "outputs": [
    {
     "name": "stdout",
     "output_type": "stream",
     "text": [
      "here\n",
      "0 train\n",
      "Empty DataFrame\n",
      "Columns: [date, date_block_num, shop_id, item_id, item_price, item_cnt_day, item_name, item_category_id, shop_name, item_category_name]\n",
      "Index: []\n",
      "1 train\n",
      "Empty DataFrame\n",
      "Columns: [date, date_block_num, shop_id, item_id, item_price, item_cnt_day, item_name, item_category_id, shop_name, item_category_name]\n",
      "Index: []\n",
      "2 train\n",
      "Empty DataFrame\n",
      "Columns: [date, date_block_num, shop_id, item_id, item_price, item_cnt_day, item_name, item_category_id, shop_name, item_category_name]\n",
      "Index: []\n"
     ]
    },
    {
     "name": "stderr",
     "output_type": "stream",
     "text": [
      "/tmp/ipykernel_2335/1475630287.py:52: FutureWarning: The behavior of DataFrame concatenation with empty or all-NA entries is deprecated. In a future version, this will no longer exclude empty or all-NA columns when determining the result dtypes. To retain the old behavior, exclude the relevant entries before the concat operation.\n",
      "  pd.concat([train, self.data[self.data['date_block_num']==idx]], ignore_index=True)\n",
      "/tmp/ipykernel_2335/1475630287.py:55: FutureWarning: The behavior of DataFrame concatenation with empty or all-NA entries is deprecated. In a future version, this will no longer exclude empty or all-NA columns when determining the result dtypes. To retain the old behavior, exclude the relevant entries before the concat operation.\n",
      "  pd.concat([val, self.data[self.data['date_block_num'] == idx]], ignore_index=True)\n"
     ]
    },
    {
     "name": "stdout",
     "output_type": "stream",
     "text": [
      "(0, 10) (0, 10)\n"
     ]
    },
    {
     "data": {
      "text/plain": [
       "(Empty DataFrame\n",
       " Columns: [date, date_block_num, shop_id, item_id, item_price, item_cnt_day, item_name, item_category_id, shop_name, item_category_name]\n",
       " Index: [],\n",
       " Empty DataFrame\n",
       " Columns: [date, date_block_num, shop_id, item_id, item_price, item_cnt_day, item_name, item_category_id, shop_name, item_category_name]\n",
       " Index: [])"
      ]
     },
     "execution_count": 23,
     "metadata": {},
     "output_type": "execute_result"
    }
   ],
   "source": [
    "import pandas as pd\n",
    "\n",
    "class ModelValidator:\n",
    "    def __init__(self, data: pd.DataFrame, target_col: str,  n_train_folds: int, n_valid_folds: int = 1, mode: str = 'sequence') -> None:\n",
    "        \"\"\"\n",
    "        TODO add a description\n",
    "\n",
    "        Keyword arguments:\n",
    "\n",
    "        data -- a pandas dataframe containing the training data\n",
    "\n",
    "        target_col -- the name of a column in `data` contains the target values\n",
    "\n",
    "        n_train_folds -- the amount of months used to train the model.\n",
    "        must be less or equal to the amount of months in `data` minus n_valid_folds\n",
    "\n",
    "        n_valid_folds -- the amount of months used to validate the model.\n",
    "        must be less or equal to the amount of months in `data` minus n_train_folds\n",
    "        Default: 1\n",
    "\n",
    "        mode -- string denoting the data splitting mode:\n",
    "            - `sequence` for `1,2train+3valid` -> `4,5train+6valid` -> `7,8train+9valid`\n",
    "            - `overlap` for `1,2train+3valid` -> `2,3train+4valid` -> `3,4train+5valid`\n",
    "            - `stack` for `1,2train+3valid` -> `1,2,3train+4valid` -> `1,2,3,4train+5valid`\n",
    "        Default: `sequence`\n",
    "        \"\"\"\n",
    "        self.min_fold = data['date_block_num'].unique().min()\n",
    "        self.max_fold = data['date_block_num'].unique().max()\n",
    "        self.current_fold = self.min_fold\n",
    "        self.train_size = n_train_folds\n",
    "        self.val_size = n_valid_folds\n",
    "        if (self.max_fold - self.min_fold +1) < self.train_size + self.val_size:\n",
    "            raise ValueError(f'too many folds in train and valid for the given data')\n",
    "        self.data = data\n",
    "        self.mode = mode\n",
    "\n",
    "    def _extract_features(self, fold) -> pd.DataFrame:\n",
    "        # questionable, because we might want to use the entire dataset for feature extraction\n",
    "        # TODO actual feature extraction\n",
    "        return fold\n",
    "\n",
    "    def _get_sets(self) -> pd.DataFrame:\n",
    "        train = pd.DataFrame(columns=self.data.columns)\n",
    "        val = pd.DataFrame(columns=self.data.columns)\n",
    "        \n",
    "        if self.mode.startswith('seq'):\n",
    "            print('here')\n",
    "            for idx in range(self.current_fold, self.current_fold + self.train_size):\n",
    "                print(idx, 'train')\n",
    "                print(train)\n",
    "\n",
    "                pd.concat([train, self.data[self.data['date_block_num']==idx]], ignore_index=True)\n",
    "            self.current_fold += self.train_size\n",
    "            for idx in range(self.current_fold, self.current_fold + self.val_size):\n",
    "                pd.concat([val, self.data[self.data['date_block_num'] == idx]], ignore_index=True)\n",
    "            self.current_fold += self.val_size\n",
    "            print(train.shape, val.shape)\n",
    "        \n",
    "        return (train, val)\n",
    "\n",
    "    def validate(self, model):\n",
    "        # conceptually:\n",
    "        data = self._extract_features(self._get_sets())\n",
    "        model.fit(data)\n",
    "\n",
    "        \n",
    "validator = ModelValidator(data, 'item_cnt_day', 3)\n",
    "validator._get_sets()"
   ]
  }
 ],
 "metadata": {
  "kernelspec": {
   "display_name": "venv",
   "language": "python",
   "name": "python3"
  },
  "language_info": {
   "codemirror_mode": {
    "name": "ipython",
    "version": 3
   },
   "file_extension": ".py",
   "mimetype": "text/x-python",
   "name": "python",
   "nbconvert_exporter": "python",
   "pygments_lexer": "ipython3",
   "version": "3.11.7"
  }
 },
 "nbformat": 4,
 "nbformat_minor": 2
}

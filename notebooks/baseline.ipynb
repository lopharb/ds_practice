{
 "cells": [
  {
   "cell_type": "markdown",
   "metadata": {},
   "source": [
    "## Raw ideas"
   ]
  },
  {
   "cell_type": "markdown",
   "metadata": {},
   "source": [
    "so here's a few quick ideas for a validation schema:\n",
    "\n",
    "- data shouldn't be shuffled before training, cause it's essential to have the time series values in consecutive order\n",
    "- currently I came up with three ideas for a schema:\n",
    "    1. `1,2train+3valid` -> `1,2,3train+4valid` -> `1,2,3,4train+5valid` etc.\n",
    "\n",
    "        **Advatages**:\n",
    "        - the train set grows, probably helping to test model's robustness\n",
    "        - we always validate on different parts of the training set\n",
    "\n",
    "        **Disadvantages**:\n",
    "        - computationally heavy. at some point our train will contain almost the entire dataset\n",
    "    2. `1,2train+3valid` -> `2,3train+4valid` -> `3,4train+5valid`\n",
    "\n",
    "        **Advantages**:\n",
    "        - fixed train size, no computational power issues\n",
    "        - we can somewhat efficiently use our dataset since we use each fold several times during different trainig sessions\n",
    "        \n",
    "        **Disadvantages**:\n",
    "        - the fact that different sets overlap might be a problem (shouldn't be, but who knows)\n",
    "    3.  `1,2train+3valid` -> `4,5train+6valid` -> `7,8train+9valid`\n",
    "\n",
    "        **Advantages**:\n",
    "        - the easiest one to implement, goes through each fold once only\n",
    "        - it's guaranteed that there's no overlapping or data leaks\n",
    "        \n",
    "        **Disadvantages**:\n",
    "        - data hugry in some sense, each fold is used only ones and each trainig session takes $f_{train} + 1$ folds, where $f_{train}$ is the amount of folds for the trainig set. this might be a problem assuming we have only 33 folds at maximum"
   ]
  },
  {
   "cell_type": "markdown",
   "metadata": {},
   "source": [
    "model ideas:\n",
    "\n",
    "- **decision tree-based algorithms (boosting, random forest)**:\n",
    "\n",
    "    seems to be a good choice for the task since we have a lot of categorical features and the target is a discrete variable (which is typical for decision tree regression). at the same time, trees can be overfit easily, which can cause a huge loss in robustness and very inaccurate predictions on unseen data. ensembles will help to resolve this, but the problem of overfitting won't be gone completely. also, decision trees don't work well once something completely unseen shows up in input data, which might be a problem during future usage\n",
    "- **auto-regressive models**:\n",
    "\n",
    "    a time-series specific solution, that's supposed to do a good job at predicting future sales based on historical data. the main problems are the following: \n",
    "        1. I don't have any experience working with them (but we'll still try I guess)\n",
    "        2. the data is still quite noisy, so using AR models will require some additional preprocessing \n",
    "- **RNNs**:\n",
    "\n",
    "    one of the hardest models to implement, but at the same time a really powerfull (in theory) solution, that by definition fits the task idea quite well. RNNs can be really good when it comes to analyzing consecitive data (like text processing or time series) \n"
   ]
  },
  {
   "cell_type": "markdown",
   "metadata": {},
   "source": [
    "useful additional features:\n",
    "\n",
    "- day of the week\n",
    "- month\n",
    "- year\n",
    "- lagged values (look them up in `EDA`)\n",
    "- ...\n"
   ]
  },
  {
   "cell_type": "code",
   "execution_count": 107,
   "metadata": {},
   "outputs": [],
   "source": [
    "import pandas as pd\n",
    "from warnings import filterwarnings\n",
    "filterwarnings('ignore', category=FutureWarning)\n",
    "from catboost import CatBoostRegressor\n",
    "from sklearn.ensemble import RandomForestRegressor"
   ]
  },
  {
   "cell_type": "markdown",
   "metadata": {},
   "source": [
    "## Loading the data\n",
    "\n",
    "the point is to load the data in a format that's actually going to be fed to the model"
   ]
  },
  {
   "cell_type": "code",
   "execution_count": 3,
   "metadata": {},
   "outputs": [],
   "source": [
    "data = pd.read_csv('../data/processed_files/processed_data.csv')\n",
    "data['date'] = pd.to_datetime(data['date'])"
   ]
  },
  {
   "cell_type": "code",
   "execution_count": 7,
   "metadata": {},
   "outputs": [
    {
     "data": {
      "text/plain": [
       "Index(['date', 'date_block_num', 'shop_id', 'item_id', 'item_price',\n",
       "       'item_cnt_day', 'item_name', 'item_category_id', 'shop_name',\n",
       "       'item_category_name'],\n",
       "      dtype='object')"
      ]
     },
     "execution_count": 7,
     "metadata": {},
     "output_type": "execute_result"
    }
   ],
   "source": [
    "data.columns"
   ]
  },
  {
   "cell_type": "code",
   "execution_count": 15,
   "metadata": {},
   "outputs": [],
   "source": [
    "def trim_group(data: pd.DataFrame):\n",
    "    # maybe should be moved to the loader class\n",
    "    trimmed = data[['date_block_num', 'shop_id',\n",
    "                    'item_id', 'item_price', 'item_cnt_day']]\n",
    "    trimmed = trimmed.groupby(\n",
    "        ['date_block_num', 'shop_id', 'item_id'], as_index=False).sum()\n",
    "    return trimmed"
   ]
  },
  {
   "cell_type": "code",
   "execution_count": 78,
   "metadata": {},
   "outputs": [],
   "source": [
    "trimmed = trim_group(data)"
   ]
  },
  {
   "cell_type": "code",
   "execution_count": 100,
   "metadata": {},
   "outputs": [
    {
     "data": {
      "text/html": [
       "<div>\n",
       "<style scoped>\n",
       "    .dataframe tbody tr th:only-of-type {\n",
       "        vertical-align: middle;\n",
       "    }\n",
       "\n",
       "    .dataframe tbody tr th {\n",
       "        vertical-align: top;\n",
       "    }\n",
       "\n",
       "    .dataframe thead th {\n",
       "        text-align: right;\n",
       "    }\n",
       "</style>\n",
       "<table border=\"1\" class=\"dataframe\">\n",
       "  <thead>\n",
       "    <tr style=\"text-align: right;\">\n",
       "      <th></th>\n",
       "      <th>date_block_num</th>\n",
       "      <th>shop_id</th>\n",
       "      <th>item_id</th>\n",
       "      <th>item_price</th>\n",
       "      <th>item_cnt_day</th>\n",
       "    </tr>\n",
       "  </thead>\n",
       "  <tbody>\n",
       "    <tr>\n",
       "      <th>0</th>\n",
       "      <td>0</td>\n",
       "      <td>2</td>\n",
       "      <td>27</td>\n",
       "      <td>2499.0</td>\n",
       "      <td>1</td>\n",
       "    </tr>\n",
       "    <tr>\n",
       "      <th>1</th>\n",
       "      <td>0</td>\n",
       "      <td>2</td>\n",
       "      <td>33</td>\n",
       "      <td>499.0</td>\n",
       "      <td>1</td>\n",
       "    </tr>\n",
       "    <tr>\n",
       "      <th>2</th>\n",
       "      <td>0</td>\n",
       "      <td>2</td>\n",
       "      <td>317</td>\n",
       "      <td>299.0</td>\n",
       "      <td>1</td>\n",
       "    </tr>\n",
       "    <tr>\n",
       "      <th>3</th>\n",
       "      <td>0</td>\n",
       "      <td>2</td>\n",
       "      <td>438</td>\n",
       "      <td>299.0</td>\n",
       "      <td>1</td>\n",
       "    </tr>\n",
       "    <tr>\n",
       "      <th>4</th>\n",
       "      <td>0</td>\n",
       "      <td>2</td>\n",
       "      <td>471</td>\n",
       "      <td>798.0</td>\n",
       "      <td>2</td>\n",
       "    </tr>\n",
       "  </tbody>\n",
       "</table>\n",
       "</div>"
      ],
      "text/plain": [
       "   date_block_num  shop_id  item_id  item_price  item_cnt_day\n",
       "0               0        2       27      2499.0             1\n",
       "1               0        2       33       499.0             1\n",
       "2               0        2      317       299.0             1\n",
       "3               0        2      438       299.0             1\n",
       "4               0        2      471       798.0             2"
      ]
     },
     "execution_count": 100,
     "metadata": {},
     "output_type": "execute_result"
    }
   ],
   "source": [
    "trimmed.head()"
   ]
  },
  {
   "cell_type": "code",
   "execution_count": 105,
   "metadata": {},
   "outputs": [],
   "source": [
    "# TODO this should be moved to a separate script once I get everything working\n",
    "class FoldLoader:\n",
    "    def __init__(self, data: pd.DataFrame,  n_train_folds: int, n_valid_folds: int = 1, mode: str = 'sequence') -> None:\n",
    "        \"\"\"\n",
    "        TODO add a description\n",
    "\n",
    "        Keyword arguments:\n",
    "\n",
    "        data -- a pandas dataframe containing the training data\n",
    "\n",
    "        target_col -- the name of a column in `data` contains the target values\n",
    "\n",
    "        n_train_folds -- the amount of months used to train the model.\n",
    "        must be less or equal to the amount of months in `data` minus n_valid_folds. \n",
    "        if `mode` is 'stack', only affects the train size on the first iteration\n",
    "\n",
    "        n_valid_folds -- the amount of months used to validate the model.\n",
    "        must be less or equal to the amount of months in `data` minus n_train_folds\n",
    "        Default: 1\n",
    "\n",
    "        mode -- one of \"sequence\", \"overlap\", \"stack\"\n",
    "        a string denoting the data splitting mode:\n",
    "            - `sequence` for `1,2train+3valid` -> `4,5train+6valid` -> `7,8train+9valid`\n",
    "            - `overlap` for `1,2train+3valid` -> `2,3train+4valid` -> `3,4train+5valid`\n",
    "            - `stack` for `1,2train+3valid` -> `1,2,3train+4valid` -> `1,2,3,4train+5valid`\n",
    "        Default: `sequence`\n",
    "        \"\"\"\n",
    "        self.min_fold = data['date_block_num'].unique().min()\n",
    "        self.max_fold = data['date_block_num'].unique().max()\n",
    "        self.current_fold = self.min_fold\n",
    "        self.train_size = n_train_folds\n",
    "        self.val_size = n_valid_folds\n",
    "        if (self.max_fold - self.min_fold + 1) < self.train_size + self.val_size:\n",
    "            raise ValueError(\n",
    "                f'too many folds in train and valid for the given data')\n",
    "        self.data = data\n",
    "        self.mode = mode\n",
    "\n",
    "    def _extract_features(self, fold) -> pd.DataFrame:\n",
    "        # questionable, because we might want to use the entire dataset for feature extraction\n",
    "        # TODO actual feature extraction\n",
    "        return fold\n",
    "\n",
    "    def _get_sets_internal(self, start_idx) -> tuple[pd.DataFrame, pd.DataFrame]:\n",
    "        \"\"\"\n",
    "        iterates through the dataset to form the training and validation sets\n",
    "        for current iteration\n",
    "\n",
    "        Keyword arguments:\n",
    "\n",
    "        start_idx -- index of the fold (month) to start from\n",
    "        \"\"\"\n",
    "        train = pd.DataFrame(columns=self.data.columns)\n",
    "        val = pd.DataFrame(columns=self.data.columns)\n",
    "\n",
    "        for idx in range(start_idx, start_idx + self.train_size):\n",
    "            train = pd.concat(\n",
    "                [train, self.data[self.data['date_block_num'] == idx]])\n",
    "        start_idx += self.train_size\n",
    "        for idx in range(start_idx, start_idx + self.val_size):\n",
    "            val = pd.concat(\n",
    "                [val, self.data[self.data['date_block_num'] == idx]])\n",
    "        return (train, val)\n",
    "\n",
    "    def get_sets(self) -> tuple[pd.DataFrame, pd.DataFrame]:\n",
    "        \"\"\"\n",
    "        calls `_get_sets_internal` to get training and validation sets.\n",
    "        adjusts internal counters corresponding to the selected folding mode \n",
    "        \"\"\"\n",
    "        start_idx = self.current_fold\n",
    "\n",
    "        if self.mode.startswith('seq'):\n",
    "            result = self._get_sets_internal(start_idx)\n",
    "            self.current_fold += self.train_size+self.val_size\n",
    "            return result\n",
    "        elif self.mode.startswith('over'):\n",
    "            result = self._get_sets_internal(start_idx)\n",
    "            self.current_fold += 1\n",
    "            return result\n",
    "        elif self.mode.startswith('stack'):\n",
    "            result = self._get_sets_internal(start_idx)\n",
    "            self.train_size += 1\n",
    "            return result\n",
    "        return (None, None)\n",
    "\n",
    "    def reset_folds(self) -> None:\n",
    "        \"\"\"\n",
    "        sets the current fold counter to point to the first fold \n",
    "        of the dataset. this effectively means that the iteration will be started over\n",
    "        \"\"\"\n",
    "        self.current_fold = self.min_fold\n",
    "\n",
    "    def validate(self, model):\n",
    "        # conceptually:\n",
    "        # should probably be deleted due to specific things in each model's training loop\n",
    "        raise NotImplementedError"
   ]
  },
  {
   "cell_type": "code",
   "execution_count": 115,
   "metadata": {},
   "outputs": [
    {
     "name": "stdout",
     "output_type": "stream",
     "text": [
      "date_block_num\n",
      "2    63532\n",
      "0    62729\n",
      "1    59503\n",
      "3    54270\n",
      "4    52960\n",
      "Name: count, dtype: int64\n"
     ]
    },
    {
     "data": {
      "text/plain": [
       "date_block_num\n",
       "5    55770\n",
       "Name: count, dtype: int64"
      ]
     },
     "execution_count": 115,
     "metadata": {},
     "output_type": "execute_result"
    }
   ],
   "source": [
    "validator = FoldLoader(trimmed, 3, mode='stack')\n",
    "train, val = validator.get_sets()\n",
    "train, val = validator.get_sets()\n",
    "train, val = validator.get_sets()\n",
    "print(train['date_block_num'].value_counts())\n",
    "val['date_block_num'].value_counts()"
   ]
  },
  {
   "cell_type": "code",
   "execution_count": 116,
   "metadata": {},
   "outputs": [
    {
     "name": "stdout",
     "output_type": "stream",
     "text": [
      "date_block_num\n",
      "8     51087\n",
      "10    51036\n",
      "9     50560\n",
      "Name: count, dtype: int64\n"
     ]
    },
    {
     "data": {
      "text/plain": [
       "date_block_num\n",
       "11    65541\n",
       "Name: count, dtype: int64"
      ]
     },
     "execution_count": 116,
     "metadata": {},
     "output_type": "execute_result"
    }
   ],
   "source": [
    "validator = FoldLoader(trimmed, 3, mode='seq')\n",
    "train, val = validator.get_sets()\n",
    "train, val = validator.get_sets()\n",
    "train, val = validator.get_sets()\n",
    "print(train['date_block_num'].value_counts())\n",
    "val['date_block_num'].value_counts()"
   ]
  },
  {
   "cell_type": "code",
   "execution_count": 117,
   "metadata": {},
   "outputs": [
    {
     "name": "stdout",
     "output_type": "stream",
     "text": [
      "date_block_num\n",
      "2    63532\n",
      "3    54270\n",
      "4    52960\n",
      "Name: count, dtype: int64\n"
     ]
    },
    {
     "data": {
      "text/plain": [
       "date_block_num\n",
       "5    55770\n",
       "Name: count, dtype: int64"
      ]
     },
     "execution_count": 117,
     "metadata": {},
     "output_type": "execute_result"
    }
   ],
   "source": [
    "validator = FoldLoader(trimmed, 3, mode='over')\n",
    "train, val = validator.get_sets()\n",
    "train, val = validator.get_sets()\n",
    "train, val = validator.get_sets()\n",
    "print(train['date_block_num'].value_counts())\n",
    "val['date_block_num'].value_counts()"
   ]
  }
 ],
 "metadata": {
  "kernelspec": {
   "display_name": "venv",
   "language": "python",
   "name": "python3"
  },
  "language_info": {
   "codemirror_mode": {
    "name": "ipython",
    "version": 3
   },
   "file_extension": ".py",
   "mimetype": "text/x-python",
   "name": "python",
   "nbconvert_exporter": "python",
   "pygments_lexer": "ipython3",
   "version": "3.11.7"
  }
 },
 "nbformat": 4,
 "nbformat_minor": 2
}
